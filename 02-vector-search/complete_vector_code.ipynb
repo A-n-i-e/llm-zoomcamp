{
 "cells": [
  {
   "cell_type": "code",
   "execution_count": 17,
   "id": "6bb50f5a-66a9-4c6e-9a62-4deb4ee15a09",
   "metadata": {},
   "outputs": [],
   "source": [
    "import os\n",
    "import json\n",
    "import requests\n",
    "import minsearch\n",
    "from google import genai\n",
    "from dotenv import load_dotenv"
   ]
  },
  {
   "cell_type": "code",
   "execution_count": 18,
   "id": "402f0078-d3f7-4db2-8200-19578fe87a0d",
   "metadata": {},
   "outputs": [
    {
     "data": {
      "text/plain": [
       "True"
      ]
     },
     "execution_count": 18,
     "metadata": {},
     "output_type": "execute_result"
    }
   ],
   "source": [
    "load_dotenv()"
   ]
  },
  {
   "cell_type": "code",
   "execution_count": 19,
   "id": "f2b56e14-c644-4ca3-8d1a-4ae394bfd96d",
   "metadata": {},
   "outputs": [],
   "source": [
    "client = genai.Client(api_key = os.getenv('GEMINI_API_KEY'))"
   ]
  },
  {
   "cell_type": "code",
   "execution_count": 20,
   "id": "aa411c69-401b-4728-b617-c26c17923bcb",
   "metadata": {},
   "outputs": [],
   "source": [
    "docs_url = 'https://github.com/alexeygrigorev/llm-rag-workshop/raw/main/notebooks/documents.json'\n",
    "docs_response = requests.get(docs_url)\n",
    "docs_raw = docs_response.json()"
   ]
  },
  {
   "cell_type": "code",
   "execution_count": 21,
   "id": "2a1fb80c-f416-4827-a624-f00eb2356236",
   "metadata": {},
   "outputs": [],
   "source": [
    "documents = []\n",
    "\n",
    "for course_dicts in docs_raw:\n",
    "    for doc in course_dicts['documents']:\n",
    "        doc['course'] = course_dicts['course']\n",
    "        documents.append(doc)"
   ]
  },
  {
   "cell_type": "markdown",
   "id": "9089f675-3e87-4e23-aa4a-e648ff37d67c",
   "metadata": {},
   "source": [
    "# Using Vector Search "
   ]
  },
  {
   "cell_type": "code",
   "execution_count": 36,
   "id": "8d467d10-41f8-491b-82c7-20c7ae410b5a",
   "metadata": {},
   "outputs": [],
   "source": [
    "from qdrant_client import QdrantClient, models"
   ]
  },
  {
   "cell_type": "code",
   "execution_count": 37,
   "id": "32d4a39c-df9f-420c-86b5-a570a46c6fba",
   "metadata": {},
   "outputs": [],
   "source": [
    "qd_client = QdrantClient(\"http://localhost:6333\")    "
   ]
  },
  {
   "cell_type": "code",
   "execution_count": 38,
   "id": "8d73e254-bfa8-48a8-998d-7ff1e861c87a",
   "metadata": {},
   "outputs": [],
   "source": [
    "from fastembed import TextEmbedding"
   ]
  },
  {
   "cell_type": "code",
   "execution_count": 39,
   "id": "3f92eb44-cd3d-460a-a6e6-56a3e37772c6",
   "metadata": {},
   "outputs": [],
   "source": [
    "EMBEDDING_DIMENSIONALITY = 512"
   ]
  },
  {
   "cell_type": "code",
   "execution_count": 40,
   "id": "249f931d-d387-49e9-b2ec-17a76d649afc",
   "metadata": {},
   "outputs": [],
   "source": [
    "model_handle = \"jinaai/jina-embeddings-v2-small-en\""
   ]
  },
  {
   "cell_type": "code",
   "execution_count": null,
   "id": "2d0c6ca9-dc47-4950-a1ab-9f5422f23086",
   "metadata": {},
   "outputs": [],
   "source": [
    "collection_name = \"llm-zoomcamp\"\n",
    "\n",
    "qd_client.create_collection(\n",
    "    collection_name=collection_name,\n",
    "    vectors_config=models.VectorParams(\n",
    "        size=EMBEDDING_DIMENSIONALITY, \n",
    "        distance=models.Distance.COSINE  \n",
    "    )\n",
    ")"
   ]
  },
  {
   "cell_type": "code",
   "execution_count": 46,
   "id": "ce1fccd1-7df8-4cdd-8914-49a4340ebdbf",
   "metadata": {},
   "outputs": [
    {
     "data": {
      "text/plain": [
       "UpdateResult(operation_id=5, status=<UpdateStatus.COMPLETED: 'completed'>)"
      ]
     },
     "execution_count": 46,
     "metadata": {},
     "output_type": "execute_result"
    }
   ],
   "source": [
    "qd_client.create_payload_index(\n",
    "    collection_name=collection_name,\n",
    "    field_name=\"course\",\n",
    "    field_schema=\"keyword\" # exact matching on string metadata fields\n",
    ")"
   ]
  },
  {
   "cell_type": "code",
   "execution_count": null,
   "id": "8253b5cd-6a8b-40ba-b23a-e9b7f8d47743",
   "metadata": {},
   "outputs": [],
   "source": [
    "points = []\n",
    "\n",
    "#embedding both the question and answer instead of just answers\n",
    "for i, doc in enumerate(documents):\n",
    "    text = doc['question'] + \" \" + doc['text']\n",
    "    vector=models.Document(text=text, model=model_handle)\n",
    "    \n",
    "    point = models.PointStruct(\n",
    "        id=i, \n",
    "        vector=vector,\n",
    "        payload=doc\n",
    ")\n",
    "    points.append(point)"
   ]
  },
  {
   "cell_type": "code",
   "execution_count": 103,
   "id": "b9a0ae37-3594-4b67-808e-4b45a739be24",
   "metadata": {},
   "outputs": [
    {
     "data": {
      "text/plain": [
       "PointStruct(id=0, vector=Document(text=\"Course - When will the course start? The purpose of this document is to capture frequently asked technical questions\\nThe exact day and hour of the course will be 15th Jan 2024 at 17h00. The course will start with the first  “Office Hours'' live.1\\nSubscribe to course public Google Calendar (it works from Desktop only).\\nRegister before the course starts using this link.\\nJoin the course Telegram channel with announcements.\\nDon’t forget to register in DataTalks.Club's Slack and join the channel.\", model='jinaai/jina-embeddings-v2-small-en', options=None), payload={'text': \"The purpose of this document is to capture frequently asked technical questions\\nThe exact day and hour of the course will be 15th Jan 2024 at 17h00. The course will start with the first  “Office Hours'' live.1\\nSubscribe to course public Google Calendar (it works from Desktop only).\\nRegister before the course starts using this link.\\nJoin the course Telegram channel with announcements.\\nDon’t forget to register in DataTalks.Club's Slack and join the channel.\", 'section': 'General course-related questions', 'question': 'Course - When will the course start?', 'course': 'data-engineering-zoomcamp'})"
      ]
     },
     "execution_count": 103,
     "metadata": {},
     "output_type": "execute_result"
    }
   ],
   "source": [
    "points[0]"
   ]
  },
  {
   "cell_type": "code",
   "execution_count": 72,
   "id": "614caba6-8c36-4fe7-9976-6c4670f09065",
   "metadata": {},
   "outputs": [
    {
     "data": {
      "text/plain": [
       "UpdateResult(operation_id=0, status=<UpdateStatus.COMPLETED: 'completed'>)"
      ]
     },
     "execution_count": 72,
     "metadata": {},
     "output_type": "execute_result"
    }
   ],
   "source": [
    "qd_client.upsert(\n",
    "    collection_name=collection_name,\n",
    "    points=points\n",
    ")"
   ]
  },
  {
   "cell_type": "code",
   "execution_count": 84,
   "id": "7cdd5394-070f-4c38-bf45-067315e679fc",
   "metadata": {},
   "outputs": [],
   "source": [
    "course = \"data-engineering-zoomcamp\"\n",
    "def vector_search(query, course, limit=5):\n",
    "    results = []\n",
    "    result = qd_client.query_points(\n",
    "        collection_name=collection_name,\n",
    "        query=models.Document(\n",
    "            text=query,\n",
    "            model=model_handle\n",
    "        ),\n",
    "    query_filter=models.Filter( # filter by course name\n",
    "        must=[\n",
    "            models.FieldCondition(\n",
    "                key=\"course\",\n",
    "                match=models.MatchValue(value=course)\n",
    "            )\n",
    "        ]\n",
    "        ),\n",
    "        limit=limit, \n",
    "        with_payload=True \n",
    "    )\n",
    "    for point in result.points:\n",
    "        results.append(point.payload)\n",
    "    \n",
    "    return results"
   ]
  },
  {
   "cell_type": "code",
   "execution_count": 96,
   "id": "e4ca7af5-3425-4ac7-8882-8c640505ee12",
   "metadata": {},
   "outputs": [],
   "source": [
    "def build_prompt(query, search_answers):\n",
    "    prompt = \"\"\"\n",
    "    You're a course teaching assistant. Answer the QUESTION based on the CONTEXT from the FAQ database.\n",
    "    Use only the facts from the CONTEXT when answering the QUESTION.\n",
    "    If the CONTEXT doesn't contain the answer, output NONE\n",
    "    \n",
    "    QUESTION: {question}\n",
    "    \n",
    "    CONTEXT: {context}\n",
    "    \"\"\".strip()\n",
    "    \n",
    "    context = ''\n",
    "    for doc in search_answers:\n",
    "        context = context + f\"section: {doc['section']} \\nquestion: {doc['question']}\\nanswer: {doc['text']}\\n\\n\"\n",
    "    \n",
    "    prompt = prompt.format(question=query, context=context).strip()\n",
    "\n",
    "    return prompt"
   ]
  },
  {
   "cell_type": "code",
   "execution_count": 97,
   "id": "7c406a76-519f-45bf-b149-4eedb3b78499",
   "metadata": {},
   "outputs": [],
   "source": [
    "def rag(query, course):\n",
    "    search_results = vector_search(query, course)\n",
    "    prompt = build_prompt(query, search_results)\n",
    "    llm_response = request_llm(prompt)\n",
    "\n",
    "    return llm_response"
   ]
  },
  {
   "cell_type": "code",
   "execution_count": 106,
   "id": "aa6e37b9-792c-42ea-8704-a22267963d02",
   "metadata": {},
   "outputs": [],
   "source": [
    "query = 'I just discovered the course, can I still join?'\n",
    "query2 = \"how do I run Kafka?\""
   ]
  },
  {
   "cell_type": "code",
   "execution_count": 109,
   "id": "f9933f3d-3b2c-4525-af4d-e27e1eda820f",
   "metadata": {},
   "outputs": [
    {
     "name": "stdout",
     "output_type": "stream",
     "text": [
      "To run Kafka with Java, in the project directory, run: `java -cp build/libs/<jar_name>-1.0-SNAPSHOT.jar:out src/main/java/org/example/JsonProducer.java`.\n",
      "If you encounter a `kafka.errors.NoBrokersAvailable` error, ensure your Kafka broker Docker container is working by using `docker ps` to confirm. Then, in the Docker Compose YAML file folder, run `docker compose up -d` to start all instances.\n",
      "If you get a \"Module “kafka” not found\" error when trying to run producer.py, create a virtual environment and run requirements.txt and the python files in that environment. To create a virtual env and install packages (run only once):\n",
      "```\n",
      "python -m venv env\n",
      "source env/bin/activate\n",
      "pip install -r ../requirements.txt\n",
      "```\n",
      "To activate it (you'll need to run it every time you need the virtual env):\n",
      "```\n",
      "source env/bin/activate\n",
      "```\n",
      "To deactivate it:\n",
      "```\n",
      "deactivate\n",
      "```\n",
      "This works on MacOS, Linux and Windows - but for Windows the path is slightly different (it's env/Scripts/activate). Also the virtual environment should be created only to run the python file. Docker images should first all be up and running.\n",
      "\n"
     ]
    }
   ],
   "source": [
    "print(rag(query2, course))"
   ]
  },
  {
   "cell_type": "code",
   "execution_count": null,
   "id": "6eb36b1e-c4d5-4a5c-9bc3-bc0e22c829a0",
   "metadata": {},
   "outputs": [],
   "source": []
  }
 ],
 "metadata": {
  "kernelspec": {
   "display_name": "Python 3 (ipykernel)",
   "language": "python",
   "name": "python3"
  },
  "language_info": {
   "codemirror_mode": {
    "name": "ipython",
    "version": 3
   },
   "file_extension": ".py",
   "mimetype": "text/x-python",
   "name": "python",
   "nbconvert_exporter": "python",
   "pygments_lexer": "ipython3",
   "version": "3.12.1"
  }
 },
 "nbformat": 4,
 "nbformat_minor": 5
}
