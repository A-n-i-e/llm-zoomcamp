{
 "cells": [
  {
   "cell_type": "markdown",
   "id": "a6b19a14-d00a-4beb-b338-b1e13785ec0a",
   "metadata": {},
   "source": [
    "# Question 1"
   ]
  },
  {
   "cell_type": "code",
   "execution_count": null,
   "id": "a27fa69d-23f7-4978-906c-4f5230b33ed3",
   "metadata": {},
   "outputs": [],
   "source": [
    "!pip install fastembed"
   ]
  },
  {
   "cell_type": "code",
   "execution_count": 3,
   "id": "cfc93ab7-5b72-43e8-a6af-3eafd41174d4",
   "metadata": {},
   "outputs": [
    {
     "name": "stderr",
     "output_type": "stream",
     "text": [
      "/usr/local/python/3.12.1/lib/python3.12/site-packages/tqdm/auto.py:21: TqdmWarning: IProgress not found. Please update jupyter and ipywidgets. See https://ipywidgets.readthedocs.io/en/stable/user_install.html\n",
      "  from .autonotebook import tqdm as notebook_tqdm\n"
     ]
    }
   ],
   "source": [
    "from fastembed import TextEmbedding\n",
    "import numpy as np\n",
    "from numpy.linalg import norm"
   ]
  },
  {
   "cell_type": "code",
   "execution_count": 4,
   "id": "2d357fa4-3987-4ac4-920f-de78e8e81977",
   "metadata": {},
   "outputs": [],
   "source": [
    "model_name = 'jinaai/jina-embeddings-v2-small-en'"
   ]
  },
  {
   "cell_type": "code",
   "execution_count": 5,
   "id": "cad535a2-6735-4c54-bba2-599917069a46",
   "metadata": {},
   "outputs": [],
   "source": [
    "query = 'I just discovered the course. Can I join now?'"
   ]
  },
  {
   "cell_type": "code",
   "execution_count": 6,
   "id": "9c9ef322-8e7e-44a9-bcda-42f4b37ba032",
   "metadata": {},
   "outputs": [
    {
     "name": "stderr",
     "output_type": "stream",
     "text": [
      "Fetching 5 files: 100%|███████████████| 5/5 [00:01<00:00,  2.72it/s]\n"
     ]
    }
   ],
   "source": [
    "model = TextEmbedding(model_name = model_name)"
   ]
  },
  {
   "cell_type": "code",
   "execution_count": 36,
   "id": "246ceb50-7ed4-4385-8b60-65ea9cb931f5",
   "metadata": {},
   "outputs": [],
   "source": [
    "a = list(model.embed(query))[0]"
   ]
  },
  {
   "cell_type": "code",
   "execution_count": 37,
   "id": "add9b45a-574b-44a5-bd76-30f7e5161151",
   "metadata": {},
   "outputs": [
    {
     "name": "stdout",
     "output_type": "stream",
     "text": [
      "[-7.63946260e-02 -7.30555505e-02  5.86501763e-02  3.92670571e-02\n",
      " -1.41797115e-02 -4.68342854e-02  2.69862822e-02  3.49039060e-02\n",
      "  1.53419217e-03 -1.10407363e-02  5.57556285e-02 -2.88360142e-02\n",
      " -4.87239498e-02 -9.90923923e-02  6.02579764e-02 -1.86105379e-02\n",
      " -8.81040139e-03 -3.01994831e-02 -1.42541815e-02 -3.87884212e-02\n",
      " -2.76125662e-02 -6.94957533e-03  3.20653319e-02 -5.17838394e-03\n",
      "  8.37959894e-02 -8.87329606e-02 -7.30260625e-02  5.92846802e-02\n",
      "  4.07805674e-02  7.72684822e-02 -4.60029697e-02  3.98426895e-02\n",
      "  1.74821510e-02  8.70263712e-03 -3.09291054e-02  2.20470391e-02\n",
      "  4.76479896e-02  1.76566196e-02 -3.62013627e-02 -3.53408062e-02\n",
      " -5.92537995e-03  2.97091202e-02  8.05883752e-02  1.07132722e-02\n",
      " -5.38192519e-02 -9.62881111e-03 -1.17263739e-01  3.36546374e-02\n",
      "  7.05763168e-03  7.70159791e-03 -5.17482529e-02  5.46955574e-02\n",
      " -7.80289904e-02  4.21801655e-02  1.26250977e-02  5.31339061e-02\n",
      " -2.67777188e-02  1.68820697e-02 -3.75064593e-02  9.13196419e-03\n",
      "  2.13696828e-02  1.60150107e-02 -5.05650168e-02  5.62205981e-02\n",
      " -3.66802752e-02 -3.85416649e-02 -4.21257068e-02 -1.36921605e-02\n",
      " -8.58582000e-02  2.62640812e-02 -6.18555653e-02 -8.85548653e-03\n",
      "  1.23171107e-01 -6.75609552e-02 -4.34100617e-03  1.59791480e-02\n",
      " -4.54303694e-02  7.61061035e-02  1.84935283e-02 -3.07273239e-02\n",
      " -4.37180980e-02 -4.74576970e-02 -1.95920213e-02  1.23776773e-02\n",
      " -9.96104568e-03 -6.74156430e-02  2.54752070e-02  1.22318157e-02\n",
      "  5.58628908e-02 -3.14317861e-02 -7.23993812e-03  6.33249508e-02\n",
      "  5.72494416e-03 -6.21999926e-02 -3.08616666e-02 -4.27290132e-02\n",
      "  5.16963715e-02  3.27879512e-02 -2.44813464e-02  1.79127801e-02\n",
      "  9.48254300e-02  2.18383887e-04  7.01356128e-02 -2.01385767e-02\n",
      "  3.64990936e-02  2.13020106e-02 -5.67677388e-02 -3.08141841e-02\n",
      " -1.13907057e-01 -2.70064381e-02  2.60184816e-03 -3.29073599e-02\n",
      " -2.55483216e-02 -3.43663291e-03 -5.98275691e-02  1.65986045e-02\n",
      "  7.20702840e-02 -4.90840227e-02 -4.08007783e-02 -1.96389009e-02\n",
      "  5.16470383e-02  2.06059173e-02 -1.93461828e-02  3.72109559e-02\n",
      "  5.30464167e-02  7.98735160e-02  8.71969437e-04 -3.86963865e-03\n",
      " -1.05970662e-02  2.70435984e-03 -2.64808107e-02  2.43888780e-02\n",
      " -2.96613003e-02  1.24279089e-02  1.33079558e-01 -3.45950744e-02\n",
      " -4.59976034e-03  3.19832290e-02 -3.03514393e-02  3.81469801e-02\n",
      " -4.84041680e-02 -4.63792157e-02  4.00906577e-02 -4.82729863e-02\n",
      " -1.67069455e-02  3.55168502e-03  6.37974835e-02 -5.38861010e-02\n",
      " -7.28366643e-02  1.03431210e-04 -1.55753781e-02  3.20123469e-02\n",
      " -6.41519738e-02 -1.35402483e-02 -1.19589491e-03  8.67279173e-02\n",
      " -7.58013634e-03  5.23631978e-02  1.13389494e-02 -2.93922167e-02\n",
      " -1.96549197e-02  7.33475686e-02 -1.86934887e-02 -4.86155360e-02\n",
      " -4.39756671e-02 -4.00230242e-02  7.97138121e-02  9.00253404e-02\n",
      " -5.18778926e-02  8.56788887e-03  5.70034858e-02  2.18162346e-02\n",
      " -6.55327841e-02 -1.07204614e-02 -1.09933147e-01 -3.49229900e-02\n",
      " -1.67648673e-02  1.53578421e-02 -4.12044263e-02 -3.24616957e-02\n",
      "  2.44591813e-02 -3.86447249e-02 -2.74304005e-02  2.07971664e-02\n",
      "  2.59328065e-02 -4.47550373e-02 -2.40584152e-02  7.30849360e-03\n",
      "  1.92917565e-02 -2.69451117e-02  1.38715598e-02  6.96978341e-03\n",
      "  1.17285654e-02 -1.83301697e-02 -2.18455101e-02  2.70035214e-03\n",
      " -1.10025930e-02  8.52295180e-03 -1.21902448e-03  2.31681636e-02\n",
      "  8.07126958e-03  6.94039269e-02 -5.96166642e-02  3.58433548e-02\n",
      " -4.35553226e-02  4.33547736e-02 -4.15783640e-02 -5.66755635e-02\n",
      " -5.41887066e-02 -2.39018335e-02  5.63714821e-03  2.37437432e-02\n",
      "  7.10345497e-02  1.73168487e-02 -3.22589041e-02 -1.94681982e-02\n",
      " -1.88142497e-02 -2.30825031e-02  3.37894944e-02 -1.82798398e-02\n",
      "  3.88098424e-03  1.84338045e-02 -4.55277628e-03  2.63694266e-02\n",
      " -1.90359504e-02 -2.69390028e-02  1.15375980e-02  1.16613910e-02\n",
      " -8.27911303e-03 -3.64428532e-02  9.96343799e-02 -2.95558942e-02\n",
      " -5.38948585e-02 -2.51995032e-02  1.22391840e-02 -2.27057696e-02\n",
      "  5.10331226e-03 -6.74026331e-03 -2.43784301e-02  6.32223970e-04\n",
      " -7.28257728e-02  3.13266362e-02  6.93626651e-02 -4.75812931e-02\n",
      "  3.87882214e-03  3.42483823e-02  7.59028679e-02 -9.77512922e-03\n",
      "  4.14942597e-02  7.31681366e-02 -1.54856581e-02 -1.17918575e-02\n",
      " -1.91986853e-02 -9.79173999e-02 -3.14926753e-02  5.35587215e-02\n",
      " -2.07791778e-02  6.31239230e-02 -5.97242859e-02 -2.34605019e-02\n",
      "  1.62664047e-02  5.36607945e-02 -1.37692602e-02  6.59834105e-02\n",
      " -9.24494435e-03 -1.99639826e-03 -4.87563415e-02  1.39512364e-02\n",
      "  1.22513624e-02  2.98668828e-02 -8.00471534e-03 -5.96026749e-03\n",
      "  2.81731843e-02 -2.13344179e-02 -3.77622793e-02 -2.27153343e-02\n",
      "  5.60920953e-02  4.30224526e-03  3.63267996e-02 -3.72252920e-02\n",
      " -4.53949945e-02  5.85438537e-02  1.51176422e-02  1.58622231e-02\n",
      "  7.37733782e-02 -2.13885598e-02  3.21582294e-02  4.98212947e-02\n",
      "  1.01769604e-01 -1.24236435e-02  1.43238043e-02 -9.48454560e-02\n",
      " -2.63608466e-02 -8.66007188e-03 -9.82907467e-03  7.52736761e-02\n",
      "  3.69446387e-02  3.14539880e-02  1.04801427e-03  3.11805728e-02\n",
      "  1.28968684e-02  2.60712994e-02 -4.77127535e-02 -2.55665457e-02\n",
      "  1.08133073e-02  1.03259874e-02  3.39032555e-02  2.75457424e-03\n",
      " -4.14582012e-02 -1.88644922e-02 -7.76502173e-03 -2.58755999e-02\n",
      " -1.52598044e-02  3.38669614e-02  6.38997726e-02  3.95947359e-02\n",
      "  6.39279106e-02 -5.20339341e-02 -6.02775764e-02  1.38304806e-02\n",
      " -3.38930505e-02  8.20156635e-03  4.29572420e-02  2.78503586e-02\n",
      "  4.60315577e-02  3.15629126e-02 -6.26106865e-02 -2.00963853e-02\n",
      " -2.12951154e-02  7.16957078e-03 -2.15068569e-02  2.82382423e-02\n",
      " -5.88513197e-02 -9.00752448e-02 -4.32891886e-02  1.63749742e-02\n",
      " -6.45089774e-02 -7.18055952e-02  2.46501169e-02 -2.64174014e-02\n",
      "  3.86115464e-02  1.27169565e-02  8.03685672e-04  8.49159402e-02\n",
      "  1.61136302e-02 -4.81793090e-03  2.04594849e-02  1.67128650e-02\n",
      " -3.03005825e-02 -1.24897047e-02 -3.63357728e-02  1.44468333e-03\n",
      " -4.16270567e-02 -1.42457325e-02 -8.83564826e-02  6.22003659e-03\n",
      " -2.39217371e-02 -7.03374646e-02 -1.11459769e-02  1.11177866e-01\n",
      "  6.87285555e-03 -7.54896071e-02 -1.73166835e-02  6.21763840e-02\n",
      "  4.25542051e-02 -1.69422625e-02 -1.63471712e-02 -3.44401454e-02\n",
      "  4.77698132e-02  2.33155298e-02  8.94857826e-02  1.42584208e-02\n",
      "  1.43973414e-02 -5.88510365e-02  3.24906040e-02 -3.99427283e-02\n",
      "  4.31553610e-02 -7.62977668e-04  1.45717973e-04 -1.85997997e-02\n",
      "  1.81445612e-02  1.57167364e-02  1.29852596e-02 -5.66555449e-02\n",
      " -5.92251874e-02  2.17671620e-02 -1.70178640e-02  2.31958723e-02\n",
      "  5.17287716e-02  3.37852959e-03 -4.31143234e-02 -4.11303191e-02\n",
      " -3.27946610e-02  2.10255619e-02  4.65154831e-02 -7.14069534e-02\n",
      "  6.12375013e-02  5.74542284e-02 -1.79589860e-02  7.42588820e-02\n",
      " -7.82925929e-03  2.00935910e-02 -4.51636184e-02 -8.47051140e-03\n",
      " -4.02671006e-02 -3.99867475e-02 -7.70418961e-02 -1.81935777e-02\n",
      "  2.48719998e-02  1.00413838e-02  5.88155492e-02  1.62364723e-02\n",
      "  6.73376058e-02  1.34455565e-02 -3.37173721e-02 -7.30230081e-02\n",
      " -6.79930628e-02 -2.74973249e-02 -3.99597450e-02  2.44650646e-02\n",
      "  1.31535110e-02  2.45552779e-03 -3.60949438e-02  2.72918057e-02\n",
      "  6.22414340e-02  7.20206119e-03  2.80186718e-02 -3.16789369e-02\n",
      "  5.00258220e-02  3.00860520e-02  7.12026124e-03 -3.76218121e-02\n",
      " -4.77905406e-02  3.03310049e-02 -7.07371730e-02  4.68780653e-02\n",
      "  2.32905925e-02 -8.25114015e-02  2.57834102e-02 -8.21667654e-03\n",
      "  1.05564397e-01 -9.76066944e-02  3.49954042e-02  2.96988144e-02\n",
      "  6.05656990e-02  9.99905877e-02  6.00288395e-02 -2.74579383e-02\n",
      " -3.83101976e-02  4.98680448e-02  9.85788765e-03  5.27928464e-02\n",
      " -4.71740333e-02  2.29061163e-02 -1.41790659e-02 -2.21464944e-03\n",
      " -1.27322523e-02 -1.00020015e-01  2.18197615e-02  2.71504457e-02\n",
      "  3.33837602e-02 -2.58465315e-02 -3.42772881e-02 -1.70145880e-02\n",
      "  8.48108924e-03  2.40059520e-02  5.04427584e-02 -7.67204713e-03\n",
      "  6.80716881e-02 -1.75598061e-02 -1.96400559e-02 -8.53397784e-02\n",
      " -3.29056414e-03  4.06993761e-02  9.23691839e-02  1.29570486e-02\n",
      "  5.61266639e-02  4.19532063e-02 -5.81196839e-02  9.31649506e-02\n",
      " -8.03499941e-02 -5.46839092e-02 -6.23098193e-02 -8.77602426e-02\n",
      " -3.27637979e-02 -3.68523842e-02  2.54524859e-02 -3.51777163e-03\n",
      "  6.20159225e-02  3.89112303e-02 -4.91863775e-02 -6.71836526e-02\n",
      " -1.25448864e-02 -3.02974540e-02 -4.00670636e-02  4.24238795e-02\n",
      "  2.46685657e-02 -4.83336442e-02  6.88141229e-02  4.17306001e-02\n",
      "  4.73113083e-02 -7.63803321e-02  1.48983892e-02  4.59311499e-02\n",
      " -2.27894423e-02  7.15364112e-02 -2.08668148e-02 -4.33649954e-02\n",
      " -7.64807886e-02  7.62216942e-02  3.91963105e-02  1.22587277e-02]\n"
     ]
    }
   ],
   "source": [
    "print(a)"
   ]
  },
  {
   "cell_type": "code",
   "execution_count": 38,
   "id": "0d8b7a95-8ede-49b4-b0d6-6261f826d1ba",
   "metadata": {},
   "outputs": [
    {
     "name": "stdout",
     "output_type": "stream",
     "text": [
      "-0.11726373885183883\n"
     ]
    }
   ],
   "source": [
    "print(np.min(a))"
   ]
  },
  {
   "cell_type": "markdown",
   "id": "05a9ca52-d19c-467b-a1bc-0b4ce7cf867c",
   "metadata": {},
   "source": [
    "# Question 2"
   ]
  },
  {
   "cell_type": "code",
   "execution_count": 39,
   "id": "c8d6437b-2d33-4f54-81ee-02729867b926",
   "metadata": {},
   "outputs": [],
   "source": [
    "doc = 'Can I still join the course after the start date?'"
   ]
  },
  {
   "cell_type": "code",
   "execution_count": 40,
   "id": "f544ba6d-a89a-4cfa-9f98-e176a72e5304",
   "metadata": {},
   "outputs": [],
   "source": [
    "b = list(model.embed(doc))[0]"
   ]
  },
  {
   "cell_type": "code",
   "execution_count": 41,
   "id": "56fba663-f79a-46ef-be21-6ceb3f249005",
   "metadata": {},
   "outputs": [],
   "source": [
    "a = np.array(a)\n",
    "b = np.array(b)"
   ]
  },
  {
   "cell_type": "code",
   "execution_count": 42,
   "id": "bbd0c693-c032-418d-b8ed-b95a8cba9d39",
   "metadata": {},
   "outputs": [
    {
     "name": "stdout",
     "output_type": "stream",
     "text": [
      "0.9008528895674548\n"
     ]
    }
   ],
   "source": [
    "cos_sim = np.dot(a, b.T) / (np.linalg.norm(a) * np.linalg.norm(b))\n",
    "print(cos_sim)"
   ]
  },
  {
   "cell_type": "markdown",
   "id": "87b23207-b407-4e18-8699-02147a088c22",
   "metadata": {},
   "source": [
    "# Question 3"
   ]
  },
  {
   "cell_type": "code",
   "execution_count": 43,
   "id": "7f7ae1ee-45a6-4e43-8d88-111d67733816",
   "metadata": {},
   "outputs": [],
   "source": [
    "documents = [{'text': \"Yes, even if you don't register, you're still eligible to submit the homeworks.\\nBe aware, however, that there will be deadlines for turning in the final projects. So don't leave everything for the last minute.\",\n",
    "  'section': 'General course-related questions',\n",
    "  'question': 'Course - Can I still join the course after the start date?',\n",
    "  'course': 'data-engineering-zoomcamp'},\n",
    " {'text': 'Yes, we will keep all the materials after the course finishes, so you can follow the course at your own pace after it finishes.\\nYou can also continue looking at the homeworks and continue preparing for the next cohort. I guess you can also start working on your final capstone project.',\n",
    "  'section': 'General course-related questions',\n",
    "  'question': 'Course - Can I follow the course after it finishes?',\n",
    "  'course': 'data-engineering-zoomcamp'},\n",
    " {'text': \"The purpose of this document is to capture frequently asked technical questions\\nThe exact day and hour of the course will be 15th Jan 2024 at 17h00. The course will start with the first  “Office Hours'' live.1\\nSubscribe to course public Google Calendar (it works from Desktop only).\\nRegister before the course starts using this link.\\nJoin the course Telegram channel with announcements.\\nDon’t forget to register in DataTalks.Club's Slack and join the channel.\",\n",
    "  'section': 'General course-related questions',\n",
    "  'question': 'Course - When will the course start?',\n",
    "  'course': 'data-engineering-zoomcamp'},\n",
    " {'text': 'You can start by installing and setting up all the dependencies and requirements:\\nGoogle cloud account\\nGoogle Cloud SDK\\nPython 3 (installed with Anaconda)\\nTerraform\\nGit\\nLook over the prerequisites and syllabus to see if you are comfortable with these subjects.',\n",
    "  'section': 'General course-related questions',\n",
    "  'question': 'Course - What can I do before the course starts?',\n",
    "  'course': 'data-engineering-zoomcamp'},\n",
    " {'text': 'Star the repo! Share it with friends if you find it useful ❣️\\nCreate a PR if you see you can improve the text or the structure of the repository.',\n",
    "  'section': 'General course-related questions',\n",
    "  'question': 'How can we contribute to the course?',\n",
    "  'course': 'data-engineering-zoomcamp'}]"
   ]
  },
  {
   "cell_type": "code",
   "execution_count": 44,
   "id": "1238ff01-8eff-4418-9dad-af8bef252bbc",
   "metadata": {},
   "outputs": [],
   "source": [
    "embeddings = []\n",
    "for i, doc in enumerate(documents):\n",
    "    embedding = list(model.embed(doc['text']))[0]\n",
    "    embeddings.append(embedding)\n",
    "\n",
    "embeddings = np.array(embeddings)"
   ]
  },
  {
   "cell_type": "code",
   "execution_count": 56,
   "id": "9ae59540-7da5-4cfe-b931-0f42498c24d8",
   "metadata": {},
   "outputs": [],
   "source": [
    "cos_similarities = np.dot(embeddings, b.T) / (np.linalg.norm(embeddings, axis=1) * np.linalg.norm(b))"
   ]
  },
  {
   "cell_type": "code",
   "execution_count": 57,
   "id": "57be4e8a-145e-4797-b2a4-084a56a76a0d",
   "metadata": {},
   "outputs": [
    {
     "data": {
      "text/plain": [
       "array([0.81060571, 0.84989066, 0.79913355, 0.68130469, 0.67392881])"
      ]
     },
     "execution_count": 57,
     "metadata": {},
     "output_type": "execute_result"
    }
   ],
   "source": [
    "cos_similarities"
   ]
  },
  {
   "cell_type": "code",
   "execution_count": 58,
   "id": "af30bbe3-04ec-48b2-8cdd-8dce2d25ee19",
   "metadata": {},
   "outputs": [
    {
     "data": {
      "text/plain": [
       "np.float64(0.8498906589665974)"
      ]
     },
     "execution_count": 58,
     "metadata": {},
     "output_type": "execute_result"
    }
   ],
   "source": [
    "np.max(cos_similarities)"
   ]
  },
  {
   "cell_type": "markdown",
   "id": "bd0b80dd-6008-42d2-8ec0-1580edf95387",
   "metadata": {},
   "source": [
    "# Question 4"
   ]
  },
  {
   "cell_type": "code",
   "execution_count": 59,
   "id": "b0a052d3-16d0-4ce0-8c31-81a947d1b695",
   "metadata": {},
   "outputs": [],
   "source": [
    "new_embeddings = []\n",
    "for i, doc in enumerate(documents):\n",
    "    full_text = doc['question'] + ' ' + doc['text']\n",
    "    embedding = list(model.embed(full_text))[0]\n",
    "    new_embeddings.append(embedding)\n",
    "\n",
    "new_embeddings = np.array(new_embeddings)"
   ]
  },
  {
   "cell_type": "code",
   "execution_count": 66,
   "id": "c89b1500-c208-4761-b015-d98f843e0834",
   "metadata": {},
   "outputs": [],
   "source": [
    "cos_similarities = np.dot(new_embeddings, b.T) / (np.linalg.norm(new_embeddings, axis=1) * np.linalg.norm(b))"
   ]
  },
  {
   "cell_type": "code",
   "execution_count": 67,
   "id": "195e1449-eaa1-4f00-8cab-c24b34b2bfe6",
   "metadata": {},
   "outputs": [
    {
     "data": {
      "text/plain": [
       "array([0.92732522, 0.85948475, 0.83966023, 0.76320295, 0.76044493])"
      ]
     },
     "execution_count": 67,
     "metadata": {},
     "output_type": "execute_result"
    }
   ],
   "source": [
    "cos_similarities"
   ]
  },
  {
   "cell_type": "code",
   "execution_count": 68,
   "id": "17b424d7-4d59-4ad8-9195-e5c4a79bf238",
   "metadata": {},
   "outputs": [
    {
     "data": {
      "text/plain": [
       "np.float64(0.9273252247514899)"
      ]
     },
     "execution_count": 68,
     "metadata": {},
     "output_type": "execute_result"
    }
   ],
   "source": [
    "np.max(cos_similarities)"
   ]
  },
  {
   "cell_type": "markdown",
   "id": "473869ad-60fa-45c4-9154-5be07748adc2",
   "metadata": {},
   "source": [
    "# Question 5"
   ]
  },
  {
   "cell_type": "code",
   "execution_count": 69,
   "id": "120c650c-260a-4b84-88bb-e953618aa1d8",
   "metadata": {},
   "outputs": [
    {
     "data": {
      "text/plain": [
       "[{'model': 'BAAI/bge-base-en',\n",
       "  'sources': {'hf': 'Qdrant/fast-bge-base-en',\n",
       "   'url': 'https://storage.googleapis.com/qdrant-fastembed/fast-bge-base-en.tar.gz',\n",
       "   '_deprecated_tar_struct': True},\n",
       "  'model_file': 'model_optimized.onnx',\n",
       "  'description': 'Text embeddings, Unimodal (text), English, 512 input tokens truncation, Prefixes for queries/documents: necessary, 2023 year.',\n",
       "  'license': 'mit',\n",
       "  'size_in_GB': 0.42,\n",
       "  'additional_files': [],\n",
       "  'dim': 768,\n",
       "  'tasks': {}},\n",
       " {'model': 'BAAI/bge-base-en-v1.5',\n",
       "  'sources': {'hf': 'qdrant/bge-base-en-v1.5-onnx-q',\n",
       "   'url': 'https://storage.googleapis.com/qdrant-fastembed/fast-bge-base-en-v1.5.tar.gz',\n",
       "   '_deprecated_tar_struct': True},\n",
       "  'model_file': 'model_optimized.onnx',\n",
       "  'description': 'Text embeddings, Unimodal (text), English, 512 input tokens truncation, Prefixes for queries/documents: not so necessary, 2023 year.',\n",
       "  'license': 'mit',\n",
       "  'size_in_GB': 0.21,\n",
       "  'additional_files': [],\n",
       "  'dim': 768,\n",
       "  'tasks': {}},\n",
       " {'model': 'BAAI/bge-large-en-v1.5',\n",
       "  'sources': {'hf': 'qdrant/bge-large-en-v1.5-onnx',\n",
       "   'url': None,\n",
       "   '_deprecated_tar_struct': False},\n",
       "  'model_file': 'model.onnx',\n",
       "  'description': 'Text embeddings, Unimodal (text), English, 512 input tokens truncation, Prefixes for queries/documents: not so necessary, 2023 year.',\n",
       "  'license': 'mit',\n",
       "  'size_in_GB': 1.2,\n",
       "  'additional_files': [],\n",
       "  'dim': 1024,\n",
       "  'tasks': {}},\n",
       " {'model': 'BAAI/bge-small-en',\n",
       "  'sources': {'hf': 'Qdrant/bge-small-en',\n",
       "   'url': 'https://storage.googleapis.com/qdrant-fastembed/BAAI-bge-small-en.tar.gz',\n",
       "   '_deprecated_tar_struct': True},\n",
       "  'model_file': 'model_optimized.onnx',\n",
       "  'description': 'Text embeddings, Unimodal (text), English, 512 input tokens truncation, Prefixes for queries/documents: necessary, 2023 year.',\n",
       "  'license': 'mit',\n",
       "  'size_in_GB': 0.13,\n",
       "  'additional_files': [],\n",
       "  'dim': 384,\n",
       "  'tasks': {}},\n",
       " {'model': 'BAAI/bge-small-en-v1.5',\n",
       "  'sources': {'hf': 'qdrant/bge-small-en-v1.5-onnx-q',\n",
       "   'url': None,\n",
       "   '_deprecated_tar_struct': False},\n",
       "  'model_file': 'model_optimized.onnx',\n",
       "  'description': 'Text embeddings, Unimodal (text), English, 512 input tokens truncation, Prefixes for queries/documents: not so necessary, 2023 year.',\n",
       "  'license': 'mit',\n",
       "  'size_in_GB': 0.067,\n",
       "  'additional_files': [],\n",
       "  'dim': 384,\n",
       "  'tasks': {}},\n",
       " {'model': 'BAAI/bge-small-zh-v1.5',\n",
       "  'sources': {'hf': 'Qdrant/bge-small-zh-v1.5',\n",
       "   'url': 'https://storage.googleapis.com/qdrant-fastembed/fast-bge-small-zh-v1.5.tar.gz',\n",
       "   '_deprecated_tar_struct': True},\n",
       "  'model_file': 'model_optimized.onnx',\n",
       "  'description': 'Text embeddings, Unimodal (text), Chinese, 512 input tokens truncation, Prefixes for queries/documents: not so necessary, 2023 year.',\n",
       "  'license': 'mit',\n",
       "  'size_in_GB': 0.09,\n",
       "  'additional_files': [],\n",
       "  'dim': 512,\n",
       "  'tasks': {}},\n",
       " {'model': 'mixedbread-ai/mxbai-embed-large-v1',\n",
       "  'sources': {'hf': 'mixedbread-ai/mxbai-embed-large-v1',\n",
       "   'url': None,\n",
       "   '_deprecated_tar_struct': False},\n",
       "  'model_file': 'onnx/model.onnx',\n",
       "  'description': 'Text embeddings, Unimodal (text), English, 512 input tokens truncation, Prefixes for queries/documents: necessary, 2024 year.',\n",
       "  'license': 'apache-2.0',\n",
       "  'size_in_GB': 0.64,\n",
       "  'additional_files': [],\n",
       "  'dim': 1024,\n",
       "  'tasks': {}},\n",
       " {'model': 'snowflake/snowflake-arctic-embed-xs',\n",
       "  'sources': {'hf': 'snowflake/snowflake-arctic-embed-xs',\n",
       "   'url': None,\n",
       "   '_deprecated_tar_struct': False},\n",
       "  'model_file': 'onnx/model.onnx',\n",
       "  'description': 'Text embeddings, Unimodal (text), English, 512 input tokens truncation, Prefixes for queries/documents: necessary, 2024 year.',\n",
       "  'license': 'apache-2.0',\n",
       "  'size_in_GB': 0.09,\n",
       "  'additional_files': [],\n",
       "  'dim': 384,\n",
       "  'tasks': {}},\n",
       " {'model': 'snowflake/snowflake-arctic-embed-s',\n",
       "  'sources': {'hf': 'snowflake/snowflake-arctic-embed-s',\n",
       "   'url': None,\n",
       "   '_deprecated_tar_struct': False},\n",
       "  'model_file': 'onnx/model.onnx',\n",
       "  'description': 'Text embeddings, Unimodal (text), English, 512 input tokens truncation, Prefixes for queries/documents: necessary, 2024 year.',\n",
       "  'license': 'apache-2.0',\n",
       "  'size_in_GB': 0.13,\n",
       "  'additional_files': [],\n",
       "  'dim': 384,\n",
       "  'tasks': {}},\n",
       " {'model': 'snowflake/snowflake-arctic-embed-m',\n",
       "  'sources': {'hf': 'Snowflake/snowflake-arctic-embed-m',\n",
       "   'url': None,\n",
       "   '_deprecated_tar_struct': False},\n",
       "  'model_file': 'onnx/model.onnx',\n",
       "  'description': 'Text embeddings, Unimodal (text), English, 512 input tokens truncation, Prefixes for queries/documents: necessary, 2024 year.',\n",
       "  'license': 'apache-2.0',\n",
       "  'size_in_GB': 0.43,\n",
       "  'additional_files': [],\n",
       "  'dim': 768,\n",
       "  'tasks': {}},\n",
       " {'model': 'snowflake/snowflake-arctic-embed-m-long',\n",
       "  'sources': {'hf': 'snowflake/snowflake-arctic-embed-m-long',\n",
       "   'url': None,\n",
       "   '_deprecated_tar_struct': False},\n",
       "  'model_file': 'onnx/model.onnx',\n",
       "  'description': 'Text embeddings, Unimodal (text), English, 2048 input tokens truncation, Prefixes for queries/documents: necessary, 2024 year.',\n",
       "  'license': 'apache-2.0',\n",
       "  'size_in_GB': 0.54,\n",
       "  'additional_files': [],\n",
       "  'dim': 768,\n",
       "  'tasks': {}},\n",
       " {'model': 'snowflake/snowflake-arctic-embed-l',\n",
       "  'sources': {'hf': 'snowflake/snowflake-arctic-embed-l',\n",
       "   'url': None,\n",
       "   '_deprecated_tar_struct': False},\n",
       "  'model_file': 'onnx/model.onnx',\n",
       "  'description': 'Text embeddings, Unimodal (text), English, 512 input tokens truncation, Prefixes for queries/documents: necessary, 2024 year.',\n",
       "  'license': 'apache-2.0',\n",
       "  'size_in_GB': 1.02,\n",
       "  'additional_files': [],\n",
       "  'dim': 1024,\n",
       "  'tasks': {}},\n",
       " {'model': 'jinaai/jina-clip-v1',\n",
       "  'sources': {'hf': 'jinaai/jina-clip-v1',\n",
       "   'url': None,\n",
       "   '_deprecated_tar_struct': False},\n",
       "  'model_file': 'onnx/text_model.onnx',\n",
       "  'description': 'Text embeddings, Multimodal (text&image), English, Prefixes for queries/documents: not necessary, 2024 year',\n",
       "  'license': 'apache-2.0',\n",
       "  'size_in_GB': 0.55,\n",
       "  'additional_files': [],\n",
       "  'dim': 768,\n",
       "  'tasks': {}},\n",
       " {'model': 'Qdrant/clip-ViT-B-32-text',\n",
       "  'sources': {'hf': 'Qdrant/clip-ViT-B-32-text',\n",
       "   'url': None,\n",
       "   '_deprecated_tar_struct': False},\n",
       "  'model_file': 'model.onnx',\n",
       "  'description': 'Text embeddings, Multimodal (text&image), English, 77 input tokens truncation, Prefixes for queries/documents: not necessary, 2021 year',\n",
       "  'license': 'mit',\n",
       "  'size_in_GB': 0.25,\n",
       "  'additional_files': [],\n",
       "  'dim': 512,\n",
       "  'tasks': {}},\n",
       " {'model': 'sentence-transformers/all-MiniLM-L6-v2',\n",
       "  'sources': {'hf': 'qdrant/all-MiniLM-L6-v2-onnx',\n",
       "   'url': 'https://storage.googleapis.com/qdrant-fastembed/sentence-transformers-all-MiniLM-L6-v2.tar.gz',\n",
       "   '_deprecated_tar_struct': True},\n",
       "  'model_file': 'model.onnx',\n",
       "  'description': 'Text embeddings, Unimodal (text), English, 256 input tokens truncation, Prefixes for queries/documents: not necessary, 2021 year.',\n",
       "  'license': 'apache-2.0',\n",
       "  'size_in_GB': 0.09,\n",
       "  'additional_files': [],\n",
       "  'dim': 384,\n",
       "  'tasks': {}},\n",
       " {'model': 'jinaai/jina-embeddings-v2-base-en',\n",
       "  'sources': {'hf': 'xenova/jina-embeddings-v2-base-en',\n",
       "   'url': None,\n",
       "   '_deprecated_tar_struct': False},\n",
       "  'model_file': 'onnx/model.onnx',\n",
       "  'description': 'Text embeddings, Unimodal (text), English, 8192 input tokens truncation, Prefixes for queries/documents: not necessary, 2023 year.',\n",
       "  'license': 'apache-2.0',\n",
       "  'size_in_GB': 0.52,\n",
       "  'additional_files': [],\n",
       "  'dim': 768,\n",
       "  'tasks': {}},\n",
       " {'model': 'jinaai/jina-embeddings-v2-small-en',\n",
       "  'sources': {'hf': 'xenova/jina-embeddings-v2-small-en',\n",
       "   'url': None,\n",
       "   '_deprecated_tar_struct': False},\n",
       "  'model_file': 'onnx/model.onnx',\n",
       "  'description': 'Text embeddings, Unimodal (text), English, 8192 input tokens truncation, Prefixes for queries/documents: not necessary, 2023 year.',\n",
       "  'license': 'apache-2.0',\n",
       "  'size_in_GB': 0.12,\n",
       "  'additional_files': [],\n",
       "  'dim': 512,\n",
       "  'tasks': {}},\n",
       " {'model': 'jinaai/jina-embeddings-v2-base-de',\n",
       "  'sources': {'hf': 'jinaai/jina-embeddings-v2-base-de',\n",
       "   'url': None,\n",
       "   '_deprecated_tar_struct': False},\n",
       "  'model_file': 'onnx/model_fp16.onnx',\n",
       "  'description': 'Text embeddings, Unimodal (text), Multilingual (German, English), 8192 input tokens truncation, Prefixes for queries/documents: not necessary, 2024 year.',\n",
       "  'license': 'apache-2.0',\n",
       "  'size_in_GB': 0.32,\n",
       "  'additional_files': [],\n",
       "  'dim': 768,\n",
       "  'tasks': {}},\n",
       " {'model': 'jinaai/jina-embeddings-v2-base-code',\n",
       "  'sources': {'hf': 'jinaai/jina-embeddings-v2-base-code',\n",
       "   'url': None,\n",
       "   '_deprecated_tar_struct': False},\n",
       "  'model_file': 'onnx/model.onnx',\n",
       "  'description': 'Text embeddings, Unimodal (text), Multilingual (English, 30 programming languages), 8192 input tokens truncation, Prefixes for queries/documents: not necessary, 2024 year.',\n",
       "  'license': 'apache-2.0',\n",
       "  'size_in_GB': 0.64,\n",
       "  'additional_files': [],\n",
       "  'dim': 768,\n",
       "  'tasks': {}},\n",
       " {'model': 'jinaai/jina-embeddings-v2-base-zh',\n",
       "  'sources': {'hf': 'jinaai/jina-embeddings-v2-base-zh',\n",
       "   'url': None,\n",
       "   '_deprecated_tar_struct': False},\n",
       "  'model_file': 'onnx/model.onnx',\n",
       "  'description': 'Text embeddings, Unimodal (text), supports mixed Chinese-English input text, 8192 input tokens truncation, Prefixes for queries/documents: not necessary, 2024 year.',\n",
       "  'license': 'apache-2.0',\n",
       "  'size_in_GB': 0.64,\n",
       "  'additional_files': [],\n",
       "  'dim': 768,\n",
       "  'tasks': {}},\n",
       " {'model': 'jinaai/jina-embeddings-v2-base-es',\n",
       "  'sources': {'hf': 'jinaai/jina-embeddings-v2-base-es',\n",
       "   'url': None,\n",
       "   '_deprecated_tar_struct': False},\n",
       "  'model_file': 'onnx/model.onnx',\n",
       "  'description': 'Text embeddings, Unimodal (text), supports mixed Spanish-English input text, 8192 input tokens truncation, Prefixes for queries/documents: not necessary, 2024 year.',\n",
       "  'license': 'apache-2.0',\n",
       "  'size_in_GB': 0.64,\n",
       "  'additional_files': [],\n",
       "  'dim': 768,\n",
       "  'tasks': {}},\n",
       " {'model': 'thenlper/gte-base',\n",
       "  'sources': {'hf': 'thenlper/gte-base',\n",
       "   'url': None,\n",
       "   '_deprecated_tar_struct': False},\n",
       "  'model_file': 'onnx/model.onnx',\n",
       "  'description': 'General text embeddings, Unimodal (text), supports English only input text, 512 input tokens truncation, Prefixes for queries/documents: not necessary, 2024 year.',\n",
       "  'license': 'mit',\n",
       "  'size_in_GB': 0.44,\n",
       "  'additional_files': [],\n",
       "  'dim': 768,\n",
       "  'tasks': {}},\n",
       " {'model': 'thenlper/gte-large',\n",
       "  'sources': {'hf': 'qdrant/gte-large-onnx',\n",
       "   'url': None,\n",
       "   '_deprecated_tar_struct': False},\n",
       "  'model_file': 'model.onnx',\n",
       "  'description': 'Text embeddings, Unimodal (text), English, 512 input tokens truncation, Prefixes for queries/documents: not necessary, 2023 year.',\n",
       "  'license': 'mit',\n",
       "  'size_in_GB': 1.2,\n",
       "  'additional_files': [],\n",
       "  'dim': 1024,\n",
       "  'tasks': {}},\n",
       " {'model': 'nomic-ai/nomic-embed-text-v1.5',\n",
       "  'sources': {'hf': 'nomic-ai/nomic-embed-text-v1.5',\n",
       "   'url': None,\n",
       "   '_deprecated_tar_struct': False},\n",
       "  'model_file': 'onnx/model.onnx',\n",
       "  'description': 'Text embeddings, Multimodal (text, image), English, 8192 input tokens truncation, Prefixes for queries/documents: necessary, 2024 year.',\n",
       "  'license': 'apache-2.0',\n",
       "  'size_in_GB': 0.52,\n",
       "  'additional_files': [],\n",
       "  'dim': 768,\n",
       "  'tasks': {}},\n",
       " {'model': 'nomic-ai/nomic-embed-text-v1.5-Q',\n",
       "  'sources': {'hf': 'nomic-ai/nomic-embed-text-v1.5',\n",
       "   'url': None,\n",
       "   '_deprecated_tar_struct': False},\n",
       "  'model_file': 'onnx/model_quantized.onnx',\n",
       "  'description': 'Text embeddings, Multimodal (text, image), English, 8192 input tokens truncation, Prefixes for queries/documents: necessary, 2024 year.',\n",
       "  'license': 'apache-2.0',\n",
       "  'size_in_GB': 0.13,\n",
       "  'additional_files': [],\n",
       "  'dim': 768,\n",
       "  'tasks': {}},\n",
       " {'model': 'nomic-ai/nomic-embed-text-v1',\n",
       "  'sources': {'hf': 'nomic-ai/nomic-embed-text-v1',\n",
       "   'url': None,\n",
       "   '_deprecated_tar_struct': False},\n",
       "  'model_file': 'onnx/model.onnx',\n",
       "  'description': 'Text embeddings, Multimodal (text, image), English, 8192 input tokens truncation, Prefixes for queries/documents: necessary, 2024 year.',\n",
       "  'license': 'apache-2.0',\n",
       "  'size_in_GB': 0.52,\n",
       "  'additional_files': [],\n",
       "  'dim': 768,\n",
       "  'tasks': {}},\n",
       " {'model': 'sentence-transformers/paraphrase-multilingual-MiniLM-L12-v2',\n",
       "  'sources': {'hf': 'qdrant/paraphrase-multilingual-MiniLM-L12-v2-onnx-Q',\n",
       "   'url': None,\n",
       "   '_deprecated_tar_struct': False},\n",
       "  'model_file': 'model_optimized.onnx',\n",
       "  'description': 'Text embeddings, Unimodal (text), Multilingual (~50 languages), 512 input tokens truncation, Prefixes for queries/documents: not necessary, 2019 year.',\n",
       "  'license': 'apache-2.0',\n",
       "  'size_in_GB': 0.22,\n",
       "  'additional_files': [],\n",
       "  'dim': 384,\n",
       "  'tasks': {}},\n",
       " {'model': 'sentence-transformers/paraphrase-multilingual-mpnet-base-v2',\n",
       "  'sources': {'hf': 'xenova/paraphrase-multilingual-mpnet-base-v2',\n",
       "   'url': None,\n",
       "   '_deprecated_tar_struct': False},\n",
       "  'model_file': 'onnx/model.onnx',\n",
       "  'description': 'Text embeddings, Unimodal (text), Multilingual (~50 languages), 384 input tokens truncation, Prefixes for queries/documents: not necessary, 2021 year.',\n",
       "  'license': 'apache-2.0',\n",
       "  'size_in_GB': 1.0,\n",
       "  'additional_files': [],\n",
       "  'dim': 768,\n",
       "  'tasks': {}},\n",
       " {'model': 'intfloat/multilingual-e5-large',\n",
       "  'sources': {'hf': 'qdrant/multilingual-e5-large-onnx',\n",
       "   'url': 'https://storage.googleapis.com/qdrant-fastembed/fast-multilingual-e5-large.tar.gz',\n",
       "   '_deprecated_tar_struct': True},\n",
       "  'model_file': 'model.onnx',\n",
       "  'description': 'Text embeddings, Unimodal (text), Multilingual (~100 languages), 512 input tokens truncation, Prefixes for queries/documents: necessary, 2024 year.',\n",
       "  'license': 'mit',\n",
       "  'size_in_GB': 2.24,\n",
       "  'additional_files': ['model.onnx_data'],\n",
       "  'dim': 1024,\n",
       "  'tasks': {}},\n",
       " {'model': 'jinaai/jina-embeddings-v3',\n",
       "  'sources': {'hf': 'jinaai/jina-embeddings-v3',\n",
       "   'url': None,\n",
       "   '_deprecated_tar_struct': False},\n",
       "  'model_file': 'onnx/model.onnx',\n",
       "  'description': 'Multi-task unimodal (text) embedding model, multi-lingual (~100), 1024 tokens truncation, and 8192 sequence length. Prefixes for queries/documents: not necessary, 2024 year.',\n",
       "  'license': 'cc-by-nc-4.0',\n",
       "  'size_in_GB': 2.29,\n",
       "  'additional_files': ['onnx/model.onnx_data'],\n",
       "  'dim': 1024,\n",
       "  'tasks': {'retrieval.query': 0,\n",
       "   'retrieval.passage': 1,\n",
       "   'separation': 2,\n",
       "   'classification': 3,\n",
       "   'text-matching': 4}}]"
      ]
     },
     "execution_count": 69,
     "metadata": {},
     "output_type": "execute_result"
    }
   ],
   "source": [
    "TextEmbedding.list_supported_models()"
   ]
  },
  {
   "cell_type": "code",
   "execution_count": 72,
   "id": "b1e2f43f-f1cc-4a1e-af9f-6f2b8e699730",
   "metadata": {},
   "outputs": [],
   "source": [
    "model_dim = []\n",
    "for model in TextEmbedding.list_supported_models():\n",
    "    model_dim.append(model['dim'])"
   ]
  },
  {
   "cell_type": "code",
   "execution_count": 73,
   "id": "0cd05b5b-b77c-4f8c-95d7-26dffb587855",
   "metadata": {},
   "outputs": [
    {
     "name": "stdout",
     "output_type": "stream",
     "text": [
      "384\n"
     ]
    }
   ],
   "source": [
    "print(min(model_dim))"
   ]
  },
  {
   "cell_type": "markdown",
   "id": "1f251a0f-3f1c-4d4a-9a47-a0249ad90c26",
   "metadata": {},
   "source": [
    "# Question 6"
   ]
  },
  {
   "cell_type": "code",
   "execution_count": 76,
   "id": "784afa4f-8bed-45c8-b1ac-5a70828612b9",
   "metadata": {},
   "outputs": [],
   "source": [
    "from qdrant_client import QdrantClient, models\n",
    "qd_client = QdrantClient(\"http://localhost:6333\")    "
   ]
  },
  {
   "cell_type": "code",
   "execution_count": 77,
   "id": "a94c78f8-88c6-416c-b863-13408a38dc6d",
   "metadata": {},
   "outputs": [],
   "source": [
    "model_handle = 'BAAI/bge-small-en'"
   ]
  },
  {
   "cell_type": "code",
   "execution_count": 78,
   "id": "4805cfe6-3172-44b9-a97c-b3ec9c325c26",
   "metadata": {},
   "outputs": [],
   "source": [
    "import requests \n",
    "\n",
    "docs_url = 'https://github.com/alexeygrigorev/llm-rag-workshop/raw/main/notebooks/documents.json'\n",
    "docs_response = requests.get(docs_url)\n",
    "documents_raw = docs_response.json()\n",
    "\n",
    "\n",
    "documents = []\n",
    "\n",
    "for course in documents_raw:\n",
    "    course_name = course['course']\n",
    "    if course_name != 'machine-learning-zoomcamp':\n",
    "        continue\n",
    "\n",
    "    for doc in course['documents']:\n",
    "        doc['course'] = course_name\n",
    "        documents.append(doc)"
   ]
  },
  {
   "cell_type": "code",
   "execution_count": 81,
   "id": "7fe2695c-3fbd-4620-af4b-9c4e79146ca7",
   "metadata": {},
   "outputs": [
    {
     "data": {
      "text/plain": [
       "{'text': 'Machine Learning Zoomcamp FAQ\\nThe purpose of this document is to capture frequently asked technical questions.\\nWe did this for our data engineering course and it worked quite well. Check this document for inspiration on how to structure your questions and answers:\\nData Engineering Zoomcamp FAQ\\nIn the course GitHub repository there’s a link. Here it is: https://airtable.com/shryxwLd0COOEaqXo\\nwork',\n",
       " 'section': 'General course-related questions',\n",
       " 'question': 'How do I sign up?',\n",
       " 'course': 'machine-learning-zoomcamp'}"
      ]
     },
     "execution_count": 81,
     "metadata": {},
     "output_type": "execute_result"
    }
   ],
   "source": [
    "documents[0]"
   ]
  },
  {
   "cell_type": "code",
   "execution_count": 90,
   "id": "c1d3e39b-9486-46a4-8fa2-14a45470b2d1",
   "metadata": {},
   "outputs": [
    {
     "data": {
      "text/plain": [
       "True"
      ]
     },
     "execution_count": 90,
     "metadata": {},
     "output_type": "execute_result"
    }
   ],
   "source": [
    "qd_client.delete_collection(collection_name = collection_name)"
   ]
  },
  {
   "cell_type": "code",
   "execution_count": 91,
   "id": "75fd72c8-0104-4a49-8bec-3ba405cc410d",
   "metadata": {},
   "outputs": [
    {
     "data": {
      "text/plain": [
       "True"
      ]
     },
     "execution_count": 91,
     "metadata": {},
     "output_type": "execute_result"
    }
   ],
   "source": [
    "collection_name = 'ml_zoomcamp'\n",
    "\n",
    "EMBEDDING_DIMENSIONALITY = 384\n",
    "\n",
    "qd_client.create_collection(\n",
    "    collection_name=collection_name,\n",
    "    vectors_config=models.VectorParams(\n",
    "        size=EMBEDDING_DIMENSIONALITY, \n",
    "        distance=models.Distance.COSINE  \n",
    "    )\n",
    ")"
   ]
  },
  {
   "cell_type": "code",
   "execution_count": 92,
   "id": "7c048fe8-8b84-496d-81cc-3a88f7f8718e",
   "metadata": {},
   "outputs": [],
   "source": [
    "points = []\n",
    "\n",
    "for i, doc in enumerate(documents):\n",
    "    text = doc['question'] + ' ' + doc['text']\n",
    "    vector=models.Document(text=text, model=model_handle)\n",
    "    \n",
    "    point = models.PointStruct(\n",
    "        id=i, \n",
    "        vector=vector,\n",
    "        payload=doc\n",
    ")\n",
    "    points.append(point)"
   ]
  },
  {
   "cell_type": "code",
   "execution_count": 93,
   "id": "64c98dce-ced9-4f10-834b-65e2228588ee",
   "metadata": {},
   "outputs": [
    {
     "data": {
      "text/plain": [
       "PointStruct(id=0, vector=Document(text='How do I sign up? Machine Learning Zoomcamp FAQ\\nThe purpose of this document is to capture frequently asked technical questions.\\nWe did this for our data engineering course and it worked quite well. Check this document for inspiration on how to structure your questions and answers:\\nData Engineering Zoomcamp FAQ\\nIn the course GitHub repository there’s a link. Here it is: https://airtable.com/shryxwLd0COOEaqXo\\nwork', model='BAAI/bge-small-en', options=None), payload={'text': 'Machine Learning Zoomcamp FAQ\\nThe purpose of this document is to capture frequently asked technical questions.\\nWe did this for our data engineering course and it worked quite well. Check this document for inspiration on how to structure your questions and answers:\\nData Engineering Zoomcamp FAQ\\nIn the course GitHub repository there’s a link. Here it is: https://airtable.com/shryxwLd0COOEaqXo\\nwork', 'section': 'General course-related questions', 'question': 'How do I sign up?', 'course': 'machine-learning-zoomcamp'})"
      ]
     },
     "execution_count": 93,
     "metadata": {},
     "output_type": "execute_result"
    }
   ],
   "source": [
    "points[0]"
   ]
  },
  {
   "cell_type": "code",
   "execution_count": 94,
   "id": "4f097c5e-0b96-4866-8af0-cc24cfd3b6b5",
   "metadata": {},
   "outputs": [
    {
     "data": {
      "text/plain": [
       "UpdateResult(operation_id=0, status=<UpdateStatus.COMPLETED: 'completed'>)"
      ]
     },
     "execution_count": 94,
     "metadata": {},
     "output_type": "execute_result"
    }
   ],
   "source": [
    "qd_client.upsert(\n",
    "    collection_name=collection_name,\n",
    "    points=points\n",
    ")"
   ]
  },
  {
   "cell_type": "code",
   "execution_count": 97,
   "id": "27b96c17-eee3-4ca8-8135-1b95a483255a",
   "metadata": {},
   "outputs": [],
   "source": [
    "def search(query, limit=1):\n",
    "\n",
    "    results = qd_client.query_points(\n",
    "        collection_name=collection_name,\n",
    "        query=models.Document( \n",
    "            text=query,\n",
    "            model=model_handle \n",
    "        ),\n",
    "        limit=limit, \n",
    "        with_payload=True\n",
    "    )\n",
    "\n",
    "    return results"
   ]
  },
  {
   "cell_type": "code",
   "execution_count": 99,
   "id": "5c191352-5fe1-40f8-8d6c-4871b8e72a0f",
   "metadata": {},
   "outputs": [],
   "source": [
    "result = search(query)"
   ]
  },
  {
   "cell_type": "code",
   "execution_count": 101,
   "id": "747ad040-937e-4448-8257-f7a59457f5d1",
   "metadata": {},
   "outputs": [
    {
     "data": {
      "text/plain": [
       "0.87031734"
      ]
     },
     "execution_count": 101,
     "metadata": {},
     "output_type": "execute_result"
    }
   ],
   "source": [
    "result.points[0].score"
   ]
  },
  {
   "cell_type": "code",
   "execution_count": null,
   "id": "6fbc85b7-96eb-4499-a57d-bd6bfa63e210",
   "metadata": {},
   "outputs": [],
   "source": []
  }
 ],
 "metadata": {
  "kernelspec": {
   "display_name": "Python 3 (ipykernel)",
   "language": "python",
   "name": "python3"
  },
  "language_info": {
   "codemirror_mode": {
    "name": "ipython",
    "version": 3
   },
   "file_extension": ".py",
   "mimetype": "text/x-python",
   "name": "python",
   "nbconvert_exporter": "python",
   "pygments_lexer": "ipython3",
   "version": "3.12.1"
  }
 },
 "nbformat": 4,
 "nbformat_minor": 5
}
