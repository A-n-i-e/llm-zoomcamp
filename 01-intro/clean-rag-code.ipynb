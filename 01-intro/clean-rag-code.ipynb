{
 "cells": [
  {
   "cell_type": "code",
   "execution_count": 8,
   "id": "6bb50f5a-66a9-4c6e-9a62-4deb4ee15a09",
   "metadata": {},
   "outputs": [],
   "source": [
    "import os\n",
    "import json\n",
    "import minsearch\n",
    "from google import genai\n",
    "from dotenv import load_dotenv"
   ]
  },
  {
   "cell_type": "code",
   "execution_count": 9,
   "id": "402f0078-d3f7-4db2-8200-19578fe87a0d",
   "metadata": {},
   "outputs": [
    {
     "data": {
      "text/plain": [
       "True"
      ]
     },
     "execution_count": 9,
     "metadata": {},
     "output_type": "execute_result"
    }
   ],
   "source": [
    "load_dotenv()"
   ]
  },
  {
   "cell_type": "code",
   "execution_count": 10,
   "id": "f2b56e14-c644-4ca3-8d1a-4ae394bfd96d",
   "metadata": {},
   "outputs": [],
   "source": [
    "client = genai.Client(api_key = os.getenv('GEMINI_API_KEY'))"
   ]
  },
  {
   "cell_type": "code",
   "execution_count": 11,
   "id": "aa411c69-401b-4728-b617-c26c17923bcb",
   "metadata": {},
   "outputs": [],
   "source": [
    "with open('documents.json', 'r') as file_input:\n",
    "    docs_raw = json.load(file_input)"
   ]
  },
  {
   "cell_type": "code",
   "execution_count": 12,
   "id": "2a1fb80c-f416-4827-a624-f00eb2356236",
   "metadata": {},
   "outputs": [],
   "source": [
    "documents = []\n",
    "\n",
    "for course_dicts in docs_raw:\n",
    "    for doc in course_dicts['documents']:\n",
    "        doc['course'] = course_dicts['course']\n",
    "        documents.append(doc)"
   ]
  },
  {
   "cell_type": "code",
   "execution_count": 13,
   "id": "ebc48ab9-036e-4856-8d8d-301904509623",
   "metadata": {},
   "outputs": [],
   "source": [
    "index = minsearch.Index(\n",
    "    text_fields = [\"question\", \"text\", \"section\"],\n",
    "    keyword_fields = [\"course\"]\n",
    ")"
   ]
  },
  {
   "cell_type": "code",
   "execution_count": 14,
   "id": "40119b00-2ac7-4764-9392-456815c4982f",
   "metadata": {},
   "outputs": [
    {
     "data": {
      "text/plain": [
       "<minsearch.minsearch.Index at 0x74937bdea6c0>"
      ]
     },
     "execution_count": 14,
     "metadata": {},
     "output_type": "execute_result"
    }
   ],
   "source": [
    "index.fit(documents)"
   ]
  },
  {
   "cell_type": "code",
   "execution_count": 15,
   "id": "af68091d-cca6-4802-aa39-2c9234eaf5f2",
   "metadata": {},
   "outputs": [],
   "source": [
    "def search(query):\n",
    "    boost = {'question':3.0, 'section': 0.5}\n",
    "    results = index.search(\n",
    "        query=query,\n",
    "        filter_dict = {'course' : 'data-engineering-zoomcamp'},\n",
    "        boost_dict = boost,\n",
    "        num_results = 5\n",
    "    )\n",
    "\n",
    "    return results"
   ]
  },
  {
   "cell_type": "code",
   "execution_count": 59,
   "id": "15edf9b2-4af4-4b4b-834a-33222a7bc998",
   "metadata": {},
   "outputs": [],
   "source": [
    "def build_prompt(query, search_answers):\n",
    "    prompt = \"\"\"\n",
    "    You're a course teaching assistant. Answer the QUESTION based on the CONTEXT from the FAQ database.\n",
    "    Use only the facts from the CONTEXT when answering the QUESTION.\n",
    "    If the CONTEXT doesn't contain the answer, output NONE\n",
    "    \n",
    "    QUESTION: {question}\n",
    "    \n",
    "    CONTEXT: {context}\n",
    "    \"\"\".strip()\n",
    "    \n",
    "    context = ''\n",
    "    for doc in search_answers:\n",
    "        context = context + f\"section: {doc['section']} \\nquestion: {doc['question']}\\nanswer: {doc['text']}\\n\\n\"\n",
    "    \n",
    "    prompt = prompt.format(question=query, context=context).strip()\n",
    "\n",
    "    return prompt"
   ]
  },
  {
   "cell_type": "code",
   "execution_count": 60,
   "id": "1b35313a-feff-4913-93bf-9e787086d38b",
   "metadata": {},
   "outputs": [],
   "source": [
    "def request_llm(prompt):\n",
    "    response = client.models.generate_content(\n",
    "    model = 'gemini-2.0-flash',\n",
    "    contents = [prompt]\n",
    "    )\n",
    "    return response.text"
   ]
  },
  {
   "cell_type": "code",
   "execution_count": 61,
   "id": "0cb1ff16-a44d-435c-94a4-537eb1576023",
   "metadata": {},
   "outputs": [],
   "source": [
    "q = \"how do I run Kafka?\"\n",
    "\n",
    "def rag(query):\n",
    "    search_results = search(query)\n",
    "    prompt = build_prompt(query, search_results)\n",
    "    llm_response = request_llm(prompt)\n",
    "\n",
    "    return llm_response"
   ]
  },
  {
   "cell_type": "code",
   "execution_count": 62,
   "id": "4d29da0f-7fbb-471c-8323-c0fb1b1ff334",
   "metadata": {},
   "outputs": [
    {
     "name": "stdout",
     "output_type": "stream",
     "text": [
      "To run Kafka in terminal, use the command: java -cp build/libs/<jar_name>-1.0-SNAPSHOT.jar:out src/main/java/org/example/JsonProducer.java.\n",
      "If you're using Python, create a virtual environment, activate it, and then use `pip install -r ../requirements.txt`. Remember to activate the virtual environment each time you need it using `source env/bin/activate` (or `env/Scripts/activate` on Windows).\n",
      "Also, if you encounter a \"ModuleNotFoundError: No module named 'kafka.vendor.six.moves'\" error, use `pip install kafka-python-ng` instead.\n",
      "\n"
     ]
    }
   ],
   "source": [
    "print(rag(q)) "
   ]
  },
  {
   "cell_type": "markdown",
   "id": "4105ca5b-79ab-4442-b829-cc76488b8a66",
   "metadata": {},
   "source": [
    "# Switching up the search engine to Elastic Search"
   ]
  },
  {
   "cell_type": "code",
   "execution_count": 63,
   "id": "bb71f12b-8ba3-400d-a06a-59a7d20fada9",
   "metadata": {},
   "outputs": [],
   "source": [
    "from elasticsearch import Elasticsearch  "
   ]
  },
  {
   "cell_type": "code",
   "execution_count": 64,
   "id": "a6946582-bbc4-40bd-af33-a99ae4c68087",
   "metadata": {},
   "outputs": [],
   "source": [
    "es_client = Elasticsearch('http://localhost:9200')"
   ]
  },
  {
   "cell_type": "code",
   "execution_count": null,
   "id": "fd634829-2a6f-4ee7-ad28-78a4fcb65716",
   "metadata": {},
   "outputs": [],
   "source": [
    "index_settings = {\n",
    "    \"settings\": {\n",
    "        \"number_of_shards\": 1,\n",
    "        \"number_of_replicas\": 0\n",
    "    },\n",
    "    \"mappings\": {\n",
    "        \"properties\": {\n",
    "            \"text\": {\"type\": \"text\"},\n",
    "            \"section\": {\"type\": \"text\"},\n",
    "            \"question\": {\"type\": \"text\"},\n",
    "            \"course\": {\"type\": \"keyword\"} \n",
    "        }\n",
    "    }\n",
    "}\n",
    "\n",
    "index_name = \"course-questions\"\n",
    "\n",
    "es_client.indices.create(index=index_name, body=index_settings)"
   ]
  },
  {
   "cell_type": "code",
   "execution_count": null,
   "id": "d019e3fd-bb65-4772-b694-4ee9d0699158",
   "metadata": {},
   "outputs": [],
   "source": [
    "from tqdm.auto import tqdm\n",
    "for doc in tqdm(documents):\n",
    "    es_client.index(index=index_name, document=doc)"
   ]
  },
  {
   "cell_type": "code",
   "execution_count": null,
   "id": "fdf4ce72-ee17-4d42-9497-280c0279696e",
   "metadata": {},
   "outputs": [],
   "source": [
    "query = 'I just discovered the course, can I still join?'"
   ]
  },
  {
   "cell_type": "code",
   "execution_count": null,
   "id": "ff7cff0b-55e3-40f8-a668-f2ed7c020c96",
   "metadata": {},
   "outputs": [],
   "source": [
    "def elastic_search(query):\n",
    "    result_docs = []\n",
    "    search_query = {\n",
    "        \"size\": 5,\n",
    "        \"query\": {\n",
    "            \"bool\": {\n",
    "                \"must\": {\n",
    "                    \"multi_match\": {\n",
    "                        \"query\": query,\n",
    "                        \"fields\": [\"question^3\", \"text\", \"section\"],\n",
    "                        \"type\": \"best_fields\"\n",
    "                    }\n",
    "                },\n",
    "                \"filter\": {\n",
    "                    \"term\": {\n",
    "                        \"course\": \"data-engineering-zoomcamp\"\n",
    "                    }\n",
    "                }\n",
    "            }\n",
    "        }\n",
    "    }\n",
    "    response = es_client.search(index=index_name, body = search_query)\n",
    "    for hit in response['hits']['hits']:\n",
    "        result_docs.append(hit['_source'])\n",
    "\n",
    "    return result_docs"
   ]
  },
  {
   "cell_type": "code",
   "execution_count": null,
   "id": "75411d10-8aa7-4317-8a85-f3b307ffb3e3",
   "metadata": {},
   "outputs": [],
   "source": [
    "def rag(query):\n",
    "    search_results = elastic_search(query)\n",
    "    prompt = build_prompt(query, search_results)\n",
    "    llm_response = request_llm(prompt)\n",
    "\n",
    "    return llm_response"
   ]
  },
  {
   "cell_type": "code",
   "execution_count": 71,
   "id": "4a2377a4-7692-4f04-8540-e518806362f0",
   "metadata": {},
   "outputs": [
    {
     "name": "stdout",
     "output_type": "stream",
     "text": [
      "Yes, even if you don't register, you're still eligible to submit the homeworks. Be aware, however, that there will be deadlines for turning in the final projects, so don't leave everything for the last minute.\n",
      "\n"
     ]
    }
   ],
   "source": [
    "response = rag(query)\n",
    "print(response)"
   ]
  },
  {
   "cell_type": "code",
   "execution_count": null,
   "id": "32d4a39c-df9f-420c-86b5-a570a46c6fba",
   "metadata": {},
   "outputs": [],
   "source": []
  }
 ],
 "metadata": {
  "kernelspec": {
   "display_name": "Python 3 (ipykernel)",
   "language": "python",
   "name": "python3"
  },
  "language_info": {
   "codemirror_mode": {
    "name": "ipython",
    "version": 3
   },
   "file_extension": ".py",
   "mimetype": "text/x-python",
   "name": "python",
   "nbconvert_exporter": "python",
   "pygments_lexer": "ipython3",
   "version": "3.12.1"
  }
 },
 "nbformat": 4,
 "nbformat_minor": 5
}
