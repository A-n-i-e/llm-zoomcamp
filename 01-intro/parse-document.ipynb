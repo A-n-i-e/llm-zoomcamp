{
 "cells": [
  {
   "cell_type": "code",
   "execution_count": 1,
   "id": "3f2a7b93-8c5e-475d-a45b-31dcf164eb3c",
   "metadata": {},
   "outputs": [
    {
     "name": "stdout",
     "output_type": "stream",
     "text": [
      "Collecting python-docx\n",
      "  Downloading python_docx-1.1.2-py3-none-any.whl.metadata (2.0 kB)\n",
      "Collecting lxml>=3.1.0 (from python-docx)\n",
      "  Downloading lxml-5.4.0-cp312-cp312-manylinux_2_28_x86_64.whl.metadata (3.5 kB)\n",
      "Requirement already satisfied: typing-extensions>=4.9.0 in /home/codespace/.local/lib/python3.12/site-packages (from python-docx) (4.12.2)\n",
      "Downloading python_docx-1.1.2-py3-none-any.whl (244 kB)\n",
      "Downloading lxml-5.4.0-cp312-cp312-manylinux_2_28_x86_64.whl (5.0 MB)\n",
      "\u001b[2K   \u001b[38;2;114;156;31m━━━━━━━━━━━━━━━━━━━━━━━━━━━━━━━━━━━━━━━━\u001b[0m \u001b[32m5.0/5.0 MB\u001b[0m \u001b[31m98.3 MB/s\u001b[0m eta \u001b[36m0:00:00\u001b[0m\n",
      "\u001b[?25hInstalling collected packages: lxml, python-docx\n",
      "Successfully installed lxml-5.4.0 python-docx-1.1.2\n",
      "\n",
      "\u001b[1m[\u001b[0m\u001b[34;49mnotice\u001b[0m\u001b[1;39;49m]\u001b[0m\u001b[39;49m A new release of pip is available: \u001b[0m\u001b[31;49m25.0.1\u001b[0m\u001b[39;49m -> \u001b[0m\u001b[32;49m25.1.1\u001b[0m\n",
      "\u001b[1m[\u001b[0m\u001b[34;49mnotice\u001b[0m\u001b[1;39;49m]\u001b[0m\u001b[39;49m To update, run: \u001b[0m\u001b[32;49mpython3 -m pip install --upgrade pip\u001b[0m\n"
     ]
    }
   ],
   "source": [
    "!pip install python-docx"
   ]
  },
  {
   "cell_type": "code",
   "execution_count": 2,
   "id": "0dc8c86f-35ca-4bb5-a6e7-bed804cef970",
   "metadata": {},
   "outputs": [],
   "source": [
    "file_id = \"19bnYs80DwuUimHM65UV3sylsCn2j1vziPOwzBwQrebw\"\n",
    "\n",
    "url = f'https://docs.google.com/document/d/{file_id}/export?format=docx'"
   ]
  },
  {
   "cell_type": "code",
   "execution_count": 8,
   "id": "44a32b42-2ec3-4e36-920f-b501a128fb99",
   "metadata": {},
   "outputs": [],
   "source": [
    "import requests\n",
    "import io\n",
    "import docx"
   ]
  },
  {
   "cell_type": "code",
   "execution_count": 5,
   "id": "228ae82d-d23c-452a-ab0e-b487b5eda64b",
   "metadata": {},
   "outputs": [],
   "source": [
    "response = requests.get(url)\n"
   ]
  },
  {
   "cell_type": "code",
   "execution_count": 6,
   "id": "f1a3b560-35f2-44ba-a1c1-dd5fa998350f",
   "metadata": {},
   "outputs": [],
   "source": [
    "response.raise_for_status()"
   ]
  },
  {
   "cell_type": "code",
   "execution_count": 10,
   "id": "529cb621-e79a-4adf-8e59-1a991ad850af",
   "metadata": {},
   "outputs": [],
   "source": [
    "with io.BytesIO(response.content) as f_in:\n",
    "    doc = docx.Document(f_in)"
   ]
  },
  {
   "cell_type": "code",
   "execution_count": 34,
   "id": "70af0626-b220-4161-8a82-0565e8626d01",
   "metadata": {},
   "outputs": [
    {
     "data": {
      "text/plain": [
       "('General course-related questions',\n",
       " _ParagraphStyle('Heading 1') id: 129856776554784)"
      ]
     },
     "execution_count": 34,
     "metadata": {},
     "output_type": "execute_result"
    }
   ],
   "source": [
    "p = doc.paragraphs[9]\n",
    "p.text, p.style"
   ]
  },
  {
   "cell_type": "code",
   "execution_count": 37,
   "id": "300955e5-895b-4b69-a453-78ceceadf168",
   "metadata": {},
   "outputs": [
    {
     "data": {
      "text/plain": [
       "'heading 1'"
      ]
     },
     "execution_count": 37,
     "metadata": {},
     "output_type": "execute_result"
    }
   ],
   "source": [
    "question_heading_style = 'heading 2'\n",
    "section_heading_style = 'heading 1'\n",
    "p.style.name.lower()"
   ]
  },
  {
   "cell_type": "code",
   "execution_count": 47,
   "id": "01ba6d47-4769-442e-bd1e-b1ead0bca113",
   "metadata": {},
   "outputs": [],
   "source": [
    "documents = []\n",
    "current_answer = []\n",
    "current_section = ''\n",
    "current_question = ''\n",
    "\n",
    "for p in doc.paragraphs:\n",
    "    p_style = p.style.name.lower()\n",
    "    p_text = p.text.strip()\n",
    "\n",
    "    if p_text == '':\n",
    "        continue\n",
    "    if p_style == section_heading_style:\n",
    "        current_section = p_text\n",
    "        current_question = ''\n",
    "        current_answer = []\n",
    "        continue\n",
    "\n",
    "    if p_style == question_heading_style:\n",
    "        if current_section and current_question and current_answer:\n",
    "            documents.append({\n",
    "                'section': current_section,\n",
    "                'question':current_question,\n",
    "                'text': answer\n",
    "            })\n",
    "            current_question = p_text\n",
    "            continue\n",
    "\n",
    "    current_answer.append(p_text)\n",
    "\n",
    "if current_answer:\n",
    "    answer = '\\n'.join(current_answer)\n",
    "    documents.append({\n",
    "        'section': current_section,\n",
    "        'question':current_question,\n",
    "        'text': answer\n",
    "    })"
   ]
  },
  {
   "cell_type": "code",
   "execution_count": 48,
   "id": "7fe452e9-5839-4d12-bf35-a32348372ca0",
   "metadata": {},
   "outputs": [
    {
     "ename": "IndexError",
     "evalue": "list index out of range",
     "output_type": "error",
     "traceback": [
      "\u001b[31m---------------------------------------------------------------------------\u001b[39m",
      "\u001b[31mIndexError\u001b[39m                                Traceback (most recent call last)",
      "\u001b[36mCell\u001b[39m\u001b[36m \u001b[39m\u001b[32mIn[48]\u001b[39m\u001b[32m, line 1\u001b[39m\n\u001b[32m----> \u001b[39m\u001b[32m1\u001b[39m \u001b[43mdocuments\u001b[49m\u001b[43m[\u001b[49m\u001b[32;43m4\u001b[39;49m\u001b[43m]\u001b[49m\n",
      "\u001b[31mIndexError\u001b[39m: list index out of range"
     ]
    }
   ],
   "source": [
    "documents[4]"
   ]
  },
  {
   "cell_type": "code",
   "execution_count": null,
   "id": "0d7d185a-14e1-4369-abc6-9babfda4a25f",
   "metadata": {},
   "outputs": [],
   "source": []
  }
 ],
 "metadata": {
  "kernelspec": {
   "display_name": "Python 3 (ipykernel)",
   "language": "python",
   "name": "python3"
  },
  "language_info": {
   "codemirror_mode": {
    "name": "ipython",
    "version": 3
   },
   "file_extension": ".py",
   "mimetype": "text/x-python",
   "name": "python",
   "nbconvert_exporter": "python",
   "pygments_lexer": "ipython3",
   "version": "3.12.1"
  }
 },
 "nbformat": 4,
 "nbformat_minor": 5
}
