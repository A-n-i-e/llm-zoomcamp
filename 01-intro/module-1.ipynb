{
 "cells": [
  {
   "cell_type": "code",
   "execution_count": 6,
   "id": "8dc581ef-ed22-4d5e-9048-ccd0520e98c6",
   "metadata": {},
   "outputs": [],
   "source": [
    "import os"
   ]
  },
  {
   "cell_type": "code",
   "execution_count": 7,
   "id": "f90e21bd-57c3-403e-891a-3592365c9c71",
   "metadata": {},
   "outputs": [],
   "source": [
    "from google import genai"
   ]
  },
  {
   "cell_type": "code",
   "execution_count": 8,
   "id": "f44bbac5-3722-4a84-998e-7da319c3f77d",
   "metadata": {},
   "outputs": [],
   "source": [
    "client = genai.Client(api_key = os.environ[\"GEMINI_API_KEY\"])"
   ]
  },
  {
   "cell_type": "code",
   "execution_count": 10,
   "id": "cdc5495a-5eb2-4d8e-9e70-9ea3438c0873",
   "metadata": {},
   "outputs": [],
   "source": [
    "response = client.models.generate_content(\n",
    "    model = \"gemini-2.0-flash\", contents= 'is it too late to join the course?'\n",
    ")"
   ]
  },
  {
   "cell_type": "code",
   "execution_count": 13,
   "id": "19c738f9-2988-4834-a716-975b9211aa86",
   "metadata": {},
   "outputs": [
    {
     "data": {
      "text/plain": [
       "\"Whether or not it's too late to join a course depends on a few factors:\\n\\n*   **The specific course:** Each course has its own enrollment deadlines, schedule, and policies. Some courses might allow late enrollment, while others might not.\\n*   **The course provider:** Institutions and organizations offering the course have their own rules about late enrollment.\\n*   **The amount of material already covered:** If a significant portion of the course has already been completed, it might be difficult to catch up and fully benefit from the remaining sessions.\\n*   **Your ability to catch up:** If you have a strong background in the subject matter or are a quick learner, you might be able to catch up even if the course has already started.\\n*   **Instructor permission:** Some instructors are willing to make exceptions and allow late enrollment on a case-by-case basis.\\n\\n**To find out if it's too late, you should:**\\n\\n1.  **Check the course website or contact the course provider:** This is the best way to get accurate and up-to-date information about enrollment deadlines and policies. Look for contact information for the course administrator or instructor.\\n2.  **Contact the instructor directly:** If you can find the instructor's contact information, reach out to them and explain your situation. Ask if they would be willing to consider allowing you to join late.\\n\\nWhen contacting the course provider or instructor, be sure to provide the following information:\\n\\n*   The name of the course\\n*   The course dates\\n*   Your reasons for wanting to join late\\n*   Any relevant background or experience you have\\n\\nGood luck!\""
      ]
     },
     "execution_count": 13,
     "metadata": {},
     "output_type": "execute_result"
    }
   ],
   "source": [
    "response.text"
   ]
  },
  {
   "cell_type": "code",
   "execution_count": null,
   "id": "8187c1d6-28d9-4b35-bf43-059bfb64e1f5",
   "metadata": {},
   "outputs": [],
   "source": []
  }
 ],
 "metadata": {
  "kernelspec": {
   "display_name": "Python 3 (ipykernel)",
   "language": "python",
   "name": "python3"
  },
  "language_info": {
   "codemirror_mode": {
    "name": "ipython",
    "version": 3
   },
   "file_extension": ".py",
   "mimetype": "text/x-python",
   "name": "python",
   "nbconvert_exporter": "python",
   "pygments_lexer": "ipython3",
   "version": "3.12.1"
  }
 },
 "nbformat": 4,
 "nbformat_minor": 5
}
