{
 "cells": [
  {
   "cell_type": "code",
   "execution_count": null,
   "id": "c0b60d90-98ae-4981-94c2-f4b1d03433b9",
   "metadata": {},
   "outputs": [],
   "source": [
    " !pip install minsearch"
   ]
  },
  {
   "cell_type": "code",
   "execution_count": 23,
   "id": "e27a9d38-222a-4ec9-ae30-359d65e23f4f",
   "metadata": {},
   "outputs": [
    {
     "data": {
      "text/plain": [
       "True"
      ]
     },
     "execution_count": 23,
     "metadata": {},
     "output_type": "execute_result"
    }
   ],
   "source": [
    "import os\n",
    "from google import genai\n",
    "from dotenv import load_dotenv\n",
    "\n",
    "load_dotenv()"
   ]
  },
  {
   "cell_type": "code",
   "execution_count": 1,
   "id": "7d61d281-3c86-4d12-9038-568acb70eb82",
   "metadata": {},
   "outputs": [],
   "source": [
    "import requests \n",
    "\n",
    "docs_url = 'https://github.com/alexeygrigorev/llm-rag-workshop/raw/main/notebooks/documents.json'\n",
    "docs_response = requests.get(docs_url)\n",
    "documents_raw = docs_response.json()\n",
    "\n",
    "documents = []\n",
    "\n",
    "for course in documents_raw:\n",
    "    course_name = course['course']\n",
    "\n",
    "    for doc in course['documents']:\n",
    "        doc['course'] = course_name\n",
    "        documents.append(doc)"
   ]
  },
  {
   "cell_type": "code",
   "execution_count": 2,
   "id": "5a28d242-9fc5-4647-9f05-d373a53f5022",
   "metadata": {},
   "outputs": [
    {
     "data": {
      "text/plain": [
       "{'text': \"Yes, even if you don't register, you're still eligible to submit the homeworks.\\nBe aware, however, that there will be deadlines for turning in the final projects. So don't leave everything for the last minute.\",\n",
       " 'section': 'General course-related questions',\n",
       " 'question': 'Course - Can I still join the course after the start date?',\n",
       " 'course': 'data-engineering-zoomcamp'}"
      ]
     },
     "execution_count": 2,
     "metadata": {},
     "output_type": "execute_result"
    }
   ],
   "source": [
    "documents[2]"
   ]
  },
  {
   "cell_type": "code",
   "execution_count": 3,
   "id": "220363c7-21c1-4288-81ee-8a971aa23d3a",
   "metadata": {},
   "outputs": [
    {
     "data": {
      "text/plain": [
       "<minsearch.append.AppendableIndex at 0x74615e521df0>"
      ]
     },
     "execution_count": 3,
     "metadata": {},
     "output_type": "execute_result"
    }
   ],
   "source": [
    "from minsearch import AppendableIndex\n",
    "\n",
    "index = AppendableIndex(\n",
    "    text_fields=[\"question\", \"text\", \"section\"],\n",
    "    keyword_fields=[\"course\"]\n",
    ")\n",
    "\n",
    "index.fit(documents)"
   ]
  },
  {
   "cell_type": "code",
   "execution_count": 6,
   "id": "b1cbff72-c7b0-42d2-bdf2-98618cb929fa",
   "metadata": {},
   "outputs": [],
   "source": [
    "def search(query):\n",
    "    boost = {'question': 3.0, 'section': 0.5}\n",
    "\n",
    "    results = index.search(\n",
    "        query=query,\n",
    "        filter_dict={'course': 'data-engineering-zoomcamp'},\n",
    "        boost_dict=boost,\n",
    "        num_results=5,\n",
    "        output_ids=True\n",
    "    )\n",
    "\n",
    "    return results"
   ]
  },
  {
   "cell_type": "code",
   "execution_count": 13,
   "id": "58b9b4dd-7a60-4395-bee9-6f106d624fe1",
   "metadata": {},
   "outputs": [],
   "source": [
    "question = \"Can I still take the course?\""
   ]
  },
  {
   "cell_type": "code",
   "execution_count": 14,
   "id": "e89b47c4-60fe-41c8-a734-308ee8ab4d12",
   "metadata": {},
   "outputs": [],
   "source": [
    "search_result = search(question)"
   ]
  },
  {
   "cell_type": "code",
   "execution_count": 10,
   "id": "d6f12285-6ee7-4bd9-88ac-8651deda0f62",
   "metadata": {},
   "outputs": [],
   "source": [
    "prompt_template = \"\"\"\n",
    "You're a course teaching assistant. Answer the QUESTION based on the CONTEXT from the FAQ database.\n",
    "Use only the facts from the CONTEXT when answering the QUESTION.\n",
    "\n",
    "<QUESTION>\n",
    "{question}\n",
    "</QUESTION>\n",
    "\n",
    "<CONTEXT>\n",
    "{context}\n",
    "</CONTEXT>\n",
    "\"\"\".strip()\n",
    "\n",
    "def build_prompt(query, search_results):\n",
    "    context = \"\"\n",
    "\n",
    "    for doc in search_results:\n",
    "        context = context + f\"section: {doc['section']}\\nquestion: {doc['question']}\\nanswer: {doc['text']}\\n\\n\"\n",
    "    \n",
    "    prompt = prompt_template.format(question=query, context=context).strip()\n",
    "    return prompt"
   ]
  },
  {
   "cell_type": "code",
   "execution_count": 25,
   "id": "3622eebe-cfd6-41a5-a373-06cdc529817d",
   "metadata": {},
   "outputs": [],
   "source": [
    "prompt = build_prompt(question, search_result)"
   ]
  },
  {
   "cell_type": "code",
   "execution_count": 28,
   "id": "4229d2cb-3c78-4043-83e8-7d9e81f42a39",
   "metadata": {},
   "outputs": [],
   "source": [
    "client = genai.Client()\n",
    "\n",
    "def llm(prompt):\n",
    "    response = client.models.generate_content(\n",
    "    model = 'gemini-2.0-flash',\n",
    "    contents = [prompt]\n",
    "    )\n",
    "    return response.text\n",
    "\n",
    "def rag(query):\n",
    "    search_results = search(query)\n",
    "    prompt = build_prompt(query, search_results)\n",
    "    answer = llm(prompt)\n",
    "    return answer"
   ]
  },
  {
   "cell_type": "code",
   "execution_count": 30,
   "id": "9d266e33-14d8-4c85-ade4-410edc85a064",
   "metadata": {},
   "outputs": [
    {
     "data": {
      "text/plain": [
       "\"Yes, you can still take the course and submit homework even if you don't register.\\n\""
      ]
     },
     "execution_count": 30,
     "metadata": {},
     "output_type": "execute_result"
    }
   ],
   "source": [
    "llm(prompt)"
   ]
  },
  {
   "cell_type": "code",
   "execution_count": 39,
   "id": "e2512152-3921-46a6-9181-9e732d4c8fd2",
   "metadata": {},
   "outputs": [
    {
     "name": "stdout",
     "output_type": "stream",
     "text": [
      "To run a Java Kafka producer/consumer/kstreams in the terminal, navigate to the project directory and run: `java -cp build/libs/<jar_name>-1.0-SNAPSHOT.jar:out src/main/java/org/example/JsonProducer.java`.\n",
      "\n"
     ]
    }
   ],
   "source": [
    "print(rag(\"How do I run Kafka?\"))"
   ]
  },
  {
   "cell_type": "code",
   "execution_count": 40,
   "id": "3a9db03e-e758-460a-a850-afe7a778b73a",
   "metadata": {},
   "outputs": [
    {
     "name": "stdout",
     "output_type": "stream",
     "text": [
      "Patching KDE under FreeBSD is similar to patching other software, but with some KDE-specific considerations. Here's a comprehensive guide:\n",
      "\n",
      "**1. Understanding the Situation**\n",
      "\n",
      "*   **Why are you patching?**  Are you applying a security patch, a bug fix, or a custom modification?  Knowing the reason helps you choose the right approach.\n",
      "*   **Is it a KDE Frameworks, Plasma, or Applications patch?** KDE is organized into these three main areas, each potentially with its own build system and locations.\n",
      "*   **Where did the patch come from?** Official KDE bug reports, mailing lists, or a third-party source? Verify the source's credibility, especially if it's a security patch.\n",
      "*   **Do you use ports or packages?** This significantly affects where files are located.\n",
      "\n",
      "**2. Identifying the Affected Files and Location**\n",
      "\n",
      "*   **Examine the patch file:** The patch file itself contains critical information. It tells you:\n",
      "    *   **The file paths:** Look for lines starting with `--- a/` and `+++ b/`. These show the original and modified file paths relative to the source tree.\n",
      "    *   **The file name:** the filename is after `a/` and `b/`.\n",
      "*   **Find the KDE source code:**  This is the trickiest part. The location depends on whether you're using ports or packages and which KDE component you're patching.\n",
      "\n",
      "    *   **Ports:** If you installed KDE via ports (e.g., `x11/kde5`), you need to find the source code within the ports tree.  The default location is usually `/usr/ports`.  Then, the full path to the source would be something like `/usr/ports/x11/kde5/work/kde5-plasma-desktop-5.27.10` (replace versions accordingly).  You'll likely need to extract the port to apply patches.\n",
      "    *   **Packages:** If you installed KDE via packages (e.g., using `pkg`), you don't have the full source code readily available.  Applying patches is **not directly supported or recommended** with packages.  You would ideally build from ports if you need patching capabilities.  Attempting to modify installed package files directly is highly discouraged, as it can break the system.\n",
      "\n",
      "**3.  Preparing to Apply the Patch (Ports Method)**\n",
      "\n",
      "1.  **Extract the port:** Navigate to the port's directory in `/usr/ports`.\n",
      "\n",
      "    ```bash\n",
      "    cd /usr/ports/x11/kde5/ # Or the relevant port\n",
      "    make extract\n",
      "    ```\n",
      "\n",
      "2.  **Find the correct source directory:**  Once extracted, navigate into the `work` directory.  The source code for the KDE component will be in a subdirectory there. The subdirectory name includes the name of the KDE package you're patching and its version. For example:\n",
      "\n",
      "    ```bash\n",
      "    cd work/kde5-plasma-desktop-5.27.10  # Adjust version number\n",
      "    ```\n",
      "\n",
      "**4. Applying the Patch**\n",
      "\n",
      "*   **Using `patch`:**  The standard tool for applying patches is `patch`.\n",
      "\n",
      "    ```bash\n",
      "    patch -p1 < /path/to/your/patchfile\n",
      "    ```\n",
      "\n",
      "    *   `-p1`: This option tells `patch` to strip the first component from the path in the patch file.  It's the most common value.  If you get errors like \"File to patch: \" followed by the wrong filename, try different `-p` values (e.g., `-p0`, `-p2`). The value should match the number of leading directory components that need to be stripped.  The patch file itself may contain hints on which value to use.\n",
      "    *   `/path/to/your/patchfile`:  Replace this with the actual path to the patch file.\n",
      "    *   **Example:**  If the patch file is in your home directory and called `my_fix.patch`, the command would be: `patch -p1 < /home/yourusername/my_fix.patch`\n",
      "\n",
      "*   **Resolving Fails:** If the `patch` command reports failures, it means the patch couldn't be applied cleanly.  This can happen because:\n",
      "\n",
      "    *   The code has changed since the patch was created.\n",
      "    *   You're in the wrong directory.\n",
      "    *   The `-p` value is incorrect.\n",
      "\n",
      "    If the patch fails, you'll need to investigate the cause and potentially manually edit the files.  `patch` usually creates `.rej` files containing the rejected hunks of code.  These `.rej` files provide valuable clues.\n",
      "\n",
      "**5. Rebuilding and Installing (Ports Method)**\n",
      "\n",
      "1.  **Clean:** After applying the patch, clean the build directory.\n",
      "\n",
      "    ```bash\n",
      "    make clean\n",
      "    ```\n",
      "\n",
      "2.  **Build:** Build the port.\n",
      "\n",
      "    ```bash\n",
      "    make\n",
      "    ```\n",
      "\n",
      "3.  **Install:** Install the patched version.\n",
      "\n",
      "    ```bash\n",
      "    sudo make install\n",
      "    ```\n",
      "\n",
      "4.  **Restart KDE (or the affected component):**  The exact steps depend on the component you patched. Usually, logging out and logging back in is sufficient for Plasma. For other components, you might need to restart specific services.\n",
      "\n",
      "**Important Considerations and Best Practices**\n",
      "\n",
      "*   **Backups:** Always back up your system before applying patches, especially if they are from unofficial sources. At the very least, back up the files you are about to modify.  Consider using `git` to track your changes.\n",
      "*   **Testing:** After applying the patch, thoroughly test the affected component to ensure it works as expected and doesn't introduce new issues.\n",
      "*   **Portmaster/Portupgrade:** If you use tools like `portmaster` or `portupgrade` to manage your ports, use them to build and install the port after patching.\n",
      "*   **Reverting a Patch:** If the patch causes problems, you can usually revert it. `patch` often creates `.orig` files that contain the original content of the files. You can use these to restore the original files.\n",
      "*   **Official Patches are Preferred:**  Whenever possible, use official patches from KDE or the FreeBSD ports maintainers.\n",
      "*   **Update Ports Tree Regularly:** Keep your ports tree up-to-date by running `portsnap fetch update`.  This ensures you have the latest versions of the ports and any available patches.\n",
      "*   **Watch out for upgrades:** The next time you upgrade your ports tree, the patch may be overwritten. You might need to keep a copy of the patch and re-apply it after upgrades. Create a `files` directory in the port's directory and place your patches there. The build system will automatically apply them. See the FreeBSD Porter's Handbook for details.\n",
      "\n",
      "**Example Scenario (Hypothetical)**\n",
      "\n",
      "Let's say you found a patch file called `fix_panel_crash.patch` that addresses a crash in the KDE Plasma panel.  You use ports to manage your KDE installation.\n",
      "\n",
      "1.  **Identify the affected file:** Inspect `fix_panel_crash.patch` and find a line like `--- a/plasma/applets/panel/package/contents/ui/Panel.qml`.  This tells you the file is `plasma/applets/panel/package/contents/ui/Panel.qml`.\n",
      "\n",
      "2.  **Navigate to the Plasma panel's source code:**\n",
      "    ```bash\n",
      "    cd /usr/ports/x11/kde5/\n",
      "    make extract\n",
      "    cd work/kde5-plasma-desktop-5.27.10  # Adjust version number\n",
      "    ```\n",
      "\n",
      "3.  **Apply the patch:**\n",
      "    ```bash\n",
      "    patch -p1 < /path/to/fix_panel_crash.patch\n",
      "    ```\n",
      "\n",
      "4.  **Rebuild and install:**\n",
      "    ```bash\n",
      "    make clean\n",
      "    make\n",
      "    sudo make install\n",
      "    ```\n",
      "\n",
      "5.  **Restart Plasma:** Log out and log back in.\n",
      "\n",
      "**Important Security Note:** Be extremely cautious when applying patches from untrusted sources. Verify the patch's integrity and ensure it doesn't introduce malicious code. If in doubt, refrain from applying the patch.\n",
      "\n",
      "Applying patches to KDE under FreeBSD requires some technical knowledge and careful attention to detail. Following these steps should help you successfully apply patches and keep your KDE environment stable and secure. Remember to always back up your system and test thoroughly after applying any patches.\n",
      "\n"
     ]
    }
   ],
   "source": [
    "print(llm(\"How do I patch KDE under FreeBSD?\"))"
   ]
  },
  {
   "cell_type": "markdown",
   "id": "3e3773a8-b4ee-466a-8cce-272a8710a488",
   "metadata": {},
   "source": [
    "# Agentic RAG"
   ]
  },
  {
   "cell_type": "code",
   "execution_count": 42,
   "id": "376e7f83-2c9e-43d8-a304-cd48f4d41733",
   "metadata": {},
   "outputs": [],
   "source": [
    "prompt_template = \"\"\"\n",
    "You're a course teaching assistant.\n",
    "\n",
    "You're given a QUESTION from a course student and that you need to answer with your own knowledge and provided CONTEXT.\n",
    "At the beginning the context is EMPTY.\n",
    "\n",
    "<QUESTION>\n",
    "{question}\n",
    "</QUESTION>\n",
    "\n",
    "<CONTEXT> \n",
    "{context}\n",
    "</CONTEXT>\n",
    "\n",
    "If CONTEXT is EMPTY, you can use our FAQ database.\n",
    "In this case, use the following output template:\n",
    "\n",
    "{{\n",
    "\"action\": \"SEARCH\",\n",
    "\"reasoning\": \"<add your reasoning here>\"\n",
    "}}\n",
    "\n",
    "If you can answer the QUESTION using CONTEXT, use this template:\n",
    "\n",
    "{{\n",
    "\"action\": \"ANSWER\",\n",
    "\"answer\": \"<your answer>\",\n",
    "\"source\": \"CONTEXT\"\n",
    "}}\n",
    "\n",
    "If the context doesn't contain the answer, use your own knowledge to answer the question\n",
    "\n",
    "{{\n",
    "\"action\": \"ANSWER\",\n",
    "\"answer\": \"<your answer>\",\n",
    "\"source\": \"OWN_KNOWLEDGE\"\n",
    "}}\n",
    "\"\"\".strip()"
   ]
  },
  {
   "cell_type": "code",
   "execution_count": null,
   "id": "0c07e3b5-004a-42f0-8fbf-82bf0b34b82b",
   "metadata": {},
   "outputs": [],
   "source": []
  }
 ],
 "metadata": {
  "kernelspec": {
   "display_name": "Python 3 (ipykernel)",
   "language": "python",
   "name": "python3"
  },
  "language_info": {
   "codemirror_mode": {
    "name": "ipython",
    "version": 3
   },
   "file_extension": ".py",
   "mimetype": "text/x-python",
   "name": "python",
   "nbconvert_exporter": "python",
   "pygments_lexer": "ipython3",
   "version": "3.12.1"
  }
 },
 "nbformat": 4,
 "nbformat_minor": 5
}
